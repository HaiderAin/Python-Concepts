{
 "cells": [
  {
   "cell_type": "markdown",
   "id": "7fe1b2e3-cd59-4766-97e9-7e6c2c96f8f9",
   "metadata": {},
   "source": [
    "## Methods"
   ]
  },
  {
   "cell_type": "raw",
   "id": "f2c44bf9-4ff1-415b-8b1c-24b6c0c3bfe4",
   "metadata": {},
   "source": [
    "Built-in objects in Pyhton have a variety of methods you can use\n"
   ]
  },
  {
   "cell_type": "code",
   "execution_count": 1,
   "id": "68d2d7fb-dd63-4f0b-9e38-81ccd52ea767",
   "metadata": {},
   "outputs": [],
   "source": [
    "mylist=[1,2,30]"
   ]
  },
  {
   "cell_type": "code",
   "execution_count": 2,
   "id": "d97520f7-4f49-40a1-8ccd-2d76ff77087f",
   "metadata": {},
   "outputs": [],
   "source": [
    "#append method\n",
    "mylist.append(4)"
   ]
  },
  {
   "cell_type": "code",
   "execution_count": 3,
   "id": "00bd6084-db90-4494-8a41-09d23a240b98",
   "metadata": {},
   "outputs": [
    {
     "data": {
      "text/plain": [
       "[1, 2, 30, 4]"
      ]
     },
     "execution_count": 3,
     "metadata": {},
     "output_type": "execute_result"
    }
   ],
   "source": [
    "mylist"
   ]
  },
  {
   "cell_type": "code",
   "execution_count": 4,
   "id": "481c31b2-9333-4f51-8afb-34a552345ad4",
   "metadata": {},
   "outputs": [
    {
     "data": {
      "text/plain": [
       "4"
      ]
     },
     "execution_count": 4,
     "metadata": {},
     "output_type": "execute_result"
    }
   ],
   "source": [
    "#pop\n",
    "mylist.pop()"
   ]
  },
  {
   "cell_type": "code",
   "execution_count": 5,
   "id": "86dbfde5-7261-4f53-8a7e-caf2ebcac57c",
   "metadata": {},
   "outputs": [
    {
     "data": {
      "text/plain": [
       "[1, 2, 30]"
      ]
     },
     "execution_count": 5,
     "metadata": {},
     "output_type": "execute_result"
    }
   ],
   "source": [
    "mylist"
   ]
  },
  {
   "cell_type": "code",
   "execution_count": 6,
   "id": "118721b6-1b97-450d-9b5b-44b491b8c5ea",
   "metadata": {},
   "outputs": [
    {
     "name": "stdout",
     "output_type": "stream",
     "text": [
      "Help on built-in function index:\n",
      "\n",
      "index(value, start=0, stop=9223372036854775807, /) method of builtins.list instance\n",
      "    Return first index of value.\n",
      "    \n",
      "    Raises ValueError if the value is not present.\n",
      "\n"
     ]
    }
   ],
   "source": [
    "#type the list name and type TAB to see all the methods\n",
    "#choose the method you want to use and see it's usage then press shift+TAB for help\n",
    "#another method to see the documentations is to wrape the object and method inside the\n",
    "#help function\n",
    "help(mylist.index)"
   ]
  },
  {
   "cell_type": "code",
   "execution_count": 7,
   "id": "26574cc5-88e7-4d5e-8966-29921025bad3",
   "metadata": {},
   "outputs": [
    {
     "name": "stdout",
     "output_type": "stream",
     "text": [
      "Help on built-in function insert:\n",
      "\n",
      "insert(index, object, /) method of builtins.list instance\n",
      "    Insert object before index.\n",
      "\n"
     ]
    }
   ],
   "source": [
    "help(mylist.insert)"
   ]
  },
  {
   "cell_type": "markdown",
   "id": "40e2c9dc-fdfa-4a5f-87a5-2c4542f95b38",
   "metadata": {},
   "source": [
    "##  Python Documentations"
   ]
  },
  {
   "cell_type": "raw",
   "id": "5e8e48a1-29c8-4ec7-9234-6769ab1b64ab",
   "metadata": {},
   "source": [
    "visit below page for documentation on Pyhton:\n",
    "https://docs.python.org/3/"
   ]
  },
  {
   "cell_type": "code",
   "execution_count": null,
   "id": "9c07079d-e9e9-4736-b9af-91c6bd7947ae",
   "metadata": {},
   "outputs": [],
   "source": []
  }
 ],
 "metadata": {
  "kernelspec": {
   "display_name": "Python 3 (ipykernel)",
   "language": "python",
   "name": "python3"
  },
  "language_info": {
   "codemirror_mode": {
    "name": "ipython",
    "version": 3
   },
   "file_extension": ".py",
   "mimetype": "text/x-python",
   "name": "python",
   "nbconvert_exporter": "python",
   "pygments_lexer": "ipython3",
   "version": "3.9.13"
  }
 },
 "nbformat": 4,
 "nbformat_minor": 5
}

{
 "cells": [
  {
   "cell_type": "markdown",
   "id": "230b4fa2-8d7d-4682-bc9d-7d5eb01a9e7c",
   "metadata": {},
   "source": [
    "## Functions"
   ]
  },
  {
   "cell_type": "raw",
   "id": "6e72d7ae-b1ea-4d62-94c6-98bcd70a4ea1",
   "metadata": {},
   "source": [
    "Function: A block of code that can run as many as time you need\n",
    "* reduce the effort of the programmer to re-write it every time\n",
    "* Very useful while solving the complex problems\n",
    "* sometime functions are discouraging for the learners but practice makes it easier\n"
   ]
  },
  {
   "cell_type": "markdown",
   "id": "1dba23b8-598b-4fb0-9dc8-e3ea86d24a6b",
   "metadata": {},
   "source": [
    "## Creating a Function"
   ]
  },
  {
   "cell_type": "raw",
   "id": "6aac5c2a-30f4-4649-a270-8ab5fb0b5ee5",
   "metadata": {},
   "source": [
    "# use the def line (for definition) followed by the function name\n",
    "#further it is followed by () and then a colon\n",
    "#next line you can write the codes what a function can do\n",
    "#you can call a function many times as per your need with function_name followed by parenthesis,\n",
    "#Indentation is very important\n",
    "#the comments inside the functions should be indented too\n",
    "#use snake casing (words seperated by underscore) for function name for better readability \n",
    "\n",
    "#Example of a function:\n",
    "def my_first_fucntion():   >>>>>>>>>>defining a function\n",
    "    '''\n",
    "    the comment here\n",
    "    '''\n",
    "    print(\"my first function\")  >>>>>>>>executing something\n",
    "my_first_fucntion()  >>>>>>>>>>>>calling function\n",
    "\n",
    "#Example of a fucnton with arguments\n",
    "def my_first_fucntion(name):   >>>>>>>>>>defining a function\n",
    "    '''\n",
    "    the comment here\n",
    "    '''\n",
    "    print('Hello {}.formate(name))  >>>>>>>>executing something\n",
    "my_first_fucntion('Haider') \n",
    "\n"
   ]
  },
  {
   "cell_type": "markdown",
   "id": "83430bd1-558a-45c8-8fd8-16707db2ea5a",
   "metadata": {},
   "source": [
    "## Return Keyword"
   ]
  },
  {
   "cell_type": "raw",
   "id": "f79f0388-28b0-4b62-bc92-725d53f7f894",
   "metadata": {},
   "source": [
    "* retrun keyword is used to send back the result to the function instead of just printing it out\n",
    "* it allows the output of the function to assingn a new value unlike print()\n",
    "def add_function(num1,num2):\n",
    "    return num1+num2   ##no paranthesis attachhed\n",
    "add_function(12,30)\n",
    "\n",
    "\n",
    "##if we run the above function , the result is actually returned to the function and save as 42\n",
    "##but if just do print (num1 + num2) then the result is printed out and the function is closed\n",
    "\n",
    "##using return keyword we can actually save the result as example below\n",
    "result=add_function(12,30)\n",
    "\n",
    "#now , the printing result can give the value as 42\n",
    "print(result)"
   ]
  },
  {
   "cell_type": "markdown",
   "id": "cd8f3c6d-43d8-4b84-bf9a-7ee2dae2535f",
   "metadata": {},
   "source": [
    "## Function examples"
   ]
  },
  {
   "cell_type": "code",
   "execution_count": 2,
   "id": "772989c2-c7a8-44a8-a045-d078ae8be2a6",
   "metadata": {},
   "outputs": [],
   "source": [
    "def my_func():\n",
    "    print(\"Hello\")"
   ]
  },
  {
   "cell_type": "code",
   "execution_count": 3,
   "id": "848a93ee-01f4-4a39-bddf-664ede0068e5",
   "metadata": {},
   "outputs": [
    {
     "name": "stdout",
     "output_type": "stream",
     "text": [
      "Hello\n"
     ]
    }
   ],
   "source": [
    "#calling a function\n",
    "my_func()\n"
   ]
  },
  {
   "cell_type": "code",
   "execution_count": 4,
   "id": "50205f9b-2391-4de9-a323-9e73c9c1e12a",
   "metadata": {},
   "outputs": [
    {
     "name": "stdout",
     "output_type": "stream",
     "text": [
      "Hello\n"
     ]
    }
   ],
   "source": [
    "my_func()"
   ]
  },
  {
   "cell_type": "code",
   "execution_count": 5,
   "id": "0b10f331-8af3-4496-9d8a-28c2579044c5",
   "metadata": {},
   "outputs": [
    {
     "data": {
      "text/plain": [
       "<function __main__.my_func()>"
      ]
     },
     "execution_count": 5,
     "metadata": {},
     "output_type": "execute_result"
    }
   ],
   "source": [
    "## runnin without paranthesis\n",
    "my_func"
   ]
  },
  {
   "cell_type": "code",
   "execution_count": 10,
   "id": "bbab6e1d-952d-4b39-b8f7-cdd9958bcd83",
   "metadata": {},
   "outputs": [],
   "source": [
    "##function with arguments\n",
    "def greet(name):\n",
    "    print(f'Hello {name}')"
   ]
  },
  {
   "cell_type": "code",
   "execution_count": 14,
   "id": "459dc0a4-e1bb-4cd5-87de-90863dc1e226",
   "metadata": {},
   "outputs": [
    {
     "name": "stdout",
     "output_type": "stream",
     "text": [
      "Hello Haider\n"
     ]
    }
   ],
   "source": [
    "greet('Haider')"
   ]
  },
  {
   "cell_type": "code",
   "execution_count": 13,
   "id": "7c8b5afa-4f00-48c9-ad52-8bc54a27a536",
   "metadata": {},
   "outputs": [
    {
     "ename": "TypeError",
     "evalue": "greet() missing 1 required positional argument: 'name'",
     "output_type": "error",
     "traceback": [
      "\u001b[1;31m---------------------------------------------------------------------------\u001b[0m",
      "\u001b[1;31mTypeError\u001b[0m                                 Traceback (most recent call last)",
      "Cell \u001b[1;32mIn[13], line 2\u001b[0m\n\u001b[0;32m      1\u001b[0m \u001b[38;5;66;03m##calling a function without arguments which is defined as arguments\u001b[39;00m\n\u001b[1;32m----> 2\u001b[0m \u001b[43mgreet\u001b[49m\u001b[43m(\u001b[49m\u001b[43m)\u001b[49m\n",
      "\u001b[1;31mTypeError\u001b[0m: greet() missing 1 required positional argument: 'name'"
     ]
    }
   ],
   "source": [
    "##calling a function without arguments which is defined as arguments\n",
    "##observe the error at the last lines\n",
    "greet()"
   ]
  },
  {
   "cell_type": "code",
   "execution_count": 15,
   "id": "6b2e5a7c-94e4-4ebe-bab0-d238b291eb69",
   "metadata": {},
   "outputs": [],
   "source": [
    "##Defining a function with the Defualt value so that if the argument is not passed\n",
    "# it prints the default value\n",
    "#Default is not a keyword and you can mention anything there\n",
    "\n",
    "def greet(name='Default'):\n",
    "    print(f'Hello {name}')"
   ]
  },
  {
   "cell_type": "code",
   "execution_count": 16,
   "id": "4ea28c9f-28fa-4179-b547-ba9a1650b191",
   "metadata": {},
   "outputs": [
    {
     "name": "stdout",
     "output_type": "stream",
     "text": [
      "Hello Default\n"
     ]
    }
   ],
   "source": [
    "greet()"
   ]
  },
  {
   "cell_type": "code",
   "execution_count": 17,
   "id": "349cab49-5031-4581-9410-14dd523d1f5d",
   "metadata": {},
   "outputs": [
    {
     "name": "stdout",
     "output_type": "stream",
     "text": [
      "Hello Rahul\n"
     ]
    }
   ],
   "source": [
    "greet('Rahul')"
   ]
  },
  {
   "cell_type": "code",
   "execution_count": 18,
   "id": "0a6f2b19-2ae6-4dc0-8f05-92ac2d754c65",
   "metadata": {},
   "outputs": [],
   "source": [
    "def greet(name='Raaj'):\n",
    "    print(f'Hello {name}')"
   ]
  },
  {
   "cell_type": "code",
   "execution_count": 19,
   "id": "963fe3d4-2cc5-4dd4-b1ec-e9f72386e7d2",
   "metadata": {},
   "outputs": [
    {
     "name": "stdout",
     "output_type": "stream",
     "text": [
      "Hello Raaj\n"
     ]
    }
   ],
   "source": [
    "greet()"
   ]
  },
  {
   "cell_type": "code",
   "execution_count": 20,
   "id": "72e9d388-87bc-42cf-b5a7-dda65227c228",
   "metadata": {},
   "outputs": [
    {
     "name": "stdout",
     "output_type": "stream",
     "text": [
      "Hello Nayan\n"
     ]
    }
   ],
   "source": [
    "greet('Nayan')"
   ]
  },
  {
   "cell_type": "markdown",
   "id": "50016f8a-39b9-4e7f-ad44-881b19ecc5d2",
   "metadata": {},
   "source": [
    "## Examples with Return Keyword"
   ]
  },
  {
   "cell_type": "code",
   "execution_count": 22,
   "id": "b8d1ac2a-4944-4046-b485-75d8a3b0cee5",
   "metadata": {},
   "outputs": [
    {
     "data": {
      "text/plain": [
       "42"
      ]
     },
     "execution_count": 22,
     "metadata": {},
     "output_type": "execute_result"
    }
   ],
   "source": [
    "def add_function(num1,num2):\n",
    "    return num1+num2   ##no paranthesis mentioned\n",
    "add_function(12,30)"
   ]
  },
  {
   "cell_type": "code",
   "execution_count": 23,
   "id": "83bd16c7-bf30-432e-9f78-50e224e32742",
   "metadata": {},
   "outputs": [],
   "source": [
    "##assigning a variable name\n",
    "def add_function(num1,num2):\n",
    "    return num1+num2   ##no paranthesis mentioned\n",
    "result=add_function(12,30)"
   ]
  },
  {
   "cell_type": "code",
   "execution_count": 24,
   "id": "92b27fbc-983b-4b7f-865d-f6a03f2b1c1c",
   "metadata": {},
   "outputs": [
    {
     "data": {
      "text/plain": [
       "42"
      ]
     },
     "execution_count": 24,
     "metadata": {},
     "output_type": "execute_result"
    }
   ],
   "source": [
    "result"
   ]
  },
  {
   "cell_type": "code",
   "execution_count": 25,
   "id": "b4db60cd-18aa-4900-9ec6-18e45c91235e",
   "metadata": {},
   "outputs": [],
   "source": [
    "##same function with print()"
   ]
  },
  {
   "cell_type": "code",
   "execution_count": 26,
   "id": "542e378d-630d-475d-a1c8-3beddee6dbfa",
   "metadata": {},
   "outputs": [
    {
     "name": "stdout",
     "output_type": "stream",
     "text": [
      "42\n"
     ]
    }
   ],
   "source": [
    "def add_function(num1,num2):\n",
    "    print(num1+num2)\n",
    "add_function(12,30)"
   ]
  },
  {
   "cell_type": "code",
   "execution_count": 27,
   "id": "a7bb473b-fb6f-41c5-a6e8-a8d896a6d82c",
   "metadata": {},
   "outputs": [
    {
     "name": "stdout",
     "output_type": "stream",
     "text": [
      "42\n"
     ]
    }
   ],
   "source": [
    "##let's assigne a variable while calling the function\n",
    "result=add_function(12,30)"
   ]
  },
  {
   "cell_type": "code",
   "execution_count": 29,
   "id": "1f7333d5-f6da-4019-a781-3027b7edb44e",
   "metadata": {},
   "outputs": [],
   "source": [
    "result ##observe that there's not output"
   ]
  },
  {
   "cell_type": "code",
   "execution_count": 30,
   "id": "97027237-9a5a-40c1-b064-94dd5835280c",
   "metadata": {},
   "outputs": [
    {
     "data": {
      "text/plain": [
       "NoneType"
      ]
     },
     "execution_count": 30,
     "metadata": {},
     "output_type": "execute_result"
    }
   ],
   "source": [
    "##check the type of the result now\n",
    "type(result)"
   ]
  },
  {
   "cell_type": "raw",
   "id": "3327a4fb-c1a3-401a-bbba-b3e031d5c2c6",
   "metadata": {},
   "source": [
    "## It means you cannot assign the output of the print to a variable therefore Return is widely\n",
    "## used in the functions "
   ]
  },
  {
   "cell_type": "code",
   "execution_count": 31,
   "id": "ecf114ee-3c74-4307-9f4a-f13ff72333a1",
   "metadata": {},
   "outputs": [
    {
     "name": "stdout",
     "output_type": "stream",
     "text": [
      "42\n"
     ]
    }
   ],
   "source": [
    "##if you want to return and print in the same function\n",
    "##assigning a variable name\n",
    "def add_function(num1,num2):\n",
    "    print(num1+num2)  ##paranthesis is needed\n",
    "    return num1+num2   ##no paranthesis  is mentioned\n",
    "result=add_function(12,30)"
   ]
  },
  {
   "cell_type": "code",
   "execution_count": 32,
   "id": "833d36a2-2571-4784-8ce6-09b06ddb0f8a",
   "metadata": {},
   "outputs": [
    {
     "data": {
      "text/plain": [
       "42"
      ]
     },
     "execution_count": 32,
     "metadata": {},
     "output_type": "execute_result"
    }
   ],
   "source": [
    "result"
   ]
  },
  {
   "cell_type": "code",
   "execution_count": 33,
   "id": "5d03cfb7-a79e-4dbd-a68e-f26297e62fdd",
   "metadata": {},
   "outputs": [
    {
     "name": "stdout",
     "output_type": "stream",
     "text": [
      "42\n"
     ]
    }
   ],
   "source": [
    "##checking the data type of the variables returned\n",
    "def sum_numbers(num1,num2):\n",
    "        return num1+num2   ##no paranthesis  is mentioned\n",
    "result=add_function(12,30)"
   ]
  },
  {
   "cell_type": "code",
   "execution_count": 34,
   "id": "0ef9086c-81b7-46dc-8ba7-a4629e48cc60",
   "metadata": {},
   "outputs": [
    {
     "data": {
      "text/plain": [
       "42"
      ]
     },
     "execution_count": 34,
     "metadata": {},
     "output_type": "execute_result"
    }
   ],
   "source": [
    "result"
   ]
  },
  {
   "cell_type": "code",
   "execution_count": 35,
   "id": "0fc42e06-d3dd-46f7-befe-30037c4ba7aa",
   "metadata": {},
   "outputs": [
    {
     "name": "stdout",
     "output_type": "stream",
     "text": [
      "1230\n"
     ]
    }
   ],
   "source": [
    "result=add_function('12','30') ##assumes it as the string as the "
   ]
  },
  {
   "cell_type": "markdown",
   "id": "be387c5c-9c39-4f58-8315-22682f0dd19f",
   "metadata": {},
   "source": [
    "## Functions with Logics"
   ]
  },
  {
   "cell_type": "code",
   "execution_count": 36,
   "id": "74d13659-f9b3-49a9-a6ad-69ddc14ebe12",
   "metadata": {},
   "outputs": [
    {
     "data": {
      "text/plain": [
       "0"
      ]
     },
     "execution_count": 36,
     "metadata": {},
     "output_type": "execute_result"
    }
   ],
   "source": [
    "2%2"
   ]
  },
  {
   "cell_type": "code",
   "execution_count": 37,
   "id": "2fc5f262-fd78-410c-86e5-f39e83e39bbe",
   "metadata": {},
   "outputs": [
    {
     "data": {
      "text/plain": [
       "1"
      ]
     },
     "execution_count": 37,
     "metadata": {},
     "output_type": "execute_result"
    }
   ],
   "source": [
    "3%2"
   ]
  },
  {
   "cell_type": "code",
   "execution_count": 38,
   "id": "abdb6d8f-c3a0-4a0f-a611-32f83c9525ec",
   "metadata": {},
   "outputs": [
    {
     "data": {
      "text/plain": [
       "True"
      ]
     },
     "execution_count": 38,
     "metadata": {},
     "output_type": "execute_result"
    }
   ],
   "source": [
    "20%2==0"
   ]
  },
  {
   "cell_type": "code",
   "execution_count": 39,
   "id": "d83dbe76-e589-4c9d-a743-5fd2fb8656a4",
   "metadata": {},
   "outputs": [
    {
     "data": {
      "text/plain": [
       "False"
      ]
     },
     "execution_count": 39,
     "metadata": {},
     "output_type": "execute_result"
    }
   ],
   "source": [
    "21%2==0"
   ]
  },
  {
   "cell_type": "raw",
   "id": "dd50baa1-dbe7-45e1-9c65-148e9b502536",
   "metadata": {},
   "source": [
    "Let's construct above in the function"
   ]
  },
  {
   "cell_type": "code",
   "execution_count": 58,
   "id": "1740dbdf-f255-430c-a2fe-0262c7f17781",
   "metadata": {},
   "outputs": [],
   "source": [
    "def even_check(number):\n",
    "    result = number % 2 == 0\n",
    "    return result\n"
   ]
  },
  {
   "cell_type": "code",
   "execution_count": 61,
   "id": "7de36499-e54f-4571-b1ba-e78f8af666e2",
   "metadata": {},
   "outputs": [
    {
     "data": {
      "text/plain": [
       "True"
      ]
     },
     "execution_count": 61,
     "metadata": {},
     "output_type": "execute_result"
    }
   ],
   "source": [
    "even_check(22)"
   ]
  },
  {
   "cell_type": "code",
   "execution_count": 62,
   "id": "ddc9a686-473c-468b-8704-24983761b8e4",
   "metadata": {},
   "outputs": [
    {
     "data": {
      "text/plain": [
       "False"
      ]
     },
     "execution_count": 62,
     "metadata": {},
     "output_type": "execute_result"
    }
   ],
   "source": [
    "even_check(21)"
   ]
  },
  {
   "cell_type": "raw",
   "id": "7b8d2304-f1c2-4010-9ead-f029c7218468",
   "metadata": {},
   "source": [
    "Doing the above in the same line"
   ]
  },
  {
   "cell_type": "code",
   "execution_count": null,
   "id": "718985d2-2408-4d5d-92d7-2bd96be7813d",
   "metadata": {},
   "outputs": [],
   "source": [
    "def even_check(number):\n",
    "    return number % 2 == 0"
   ]
  },
  {
   "cell_type": "code",
   "execution_count": 63,
   "id": "4f4d3a13-493b-49ca-9eea-1582f47336f0",
   "metadata": {},
   "outputs": [
    {
     "data": {
      "text/plain": [
       "True"
      ]
     },
     "execution_count": 63,
     "metadata": {},
     "output_type": "execute_result"
    }
   ],
   "source": [
    "even_check(22)"
   ]
  },
  {
   "cell_type": "code",
   "execution_count": 64,
   "id": "a4b6a192-f76e-42ec-97e7-a2ac892b5f07",
   "metadata": {},
   "outputs": [
    {
     "data": {
      "text/plain": [
       "False"
      ]
     },
     "execution_count": 64,
     "metadata": {},
     "output_type": "execute_result"
    }
   ],
   "source": [
    "even_check(21)"
   ]
  },
  {
   "cell_type": "raw",
   "id": "7712a735-8c84-4675-bec5-56f647acd2b5",
   "metadata": {},
   "source": [
    "# Writing a function which checks the list and returns True if any number is even\n",
    "#else if there is an odd number it will just pass (nothing is returned)"
   ]
  },
  {
   "cell_type": "code",
   "execution_count": 65,
   "id": "5aded89a-ae02-40cd-be1f-ff9258037702",
   "metadata": {},
   "outputs": [],
   "source": [
    "def even_check_list(num_list):\n",
    "    for number in num_list:\n",
    "        if number % 2 ==0:\n",
    "            return True\n",
    "        else:\n",
    "            pass\n",
    "        "
   ]
  },
  {
   "cell_type": "code",
   "execution_count": 67,
   "id": "3b2d6691-3d74-4322-9814-9ef69a17e98b",
   "metadata": {},
   "outputs": [],
   "source": [
    "even_check_list([1,3,5]) #notice nothing is return"
   ]
  },
  {
   "cell_type": "code",
   "execution_count": 68,
   "id": "b0903977-8e81-455c-8360-084863f2d1da",
   "metadata": {},
   "outputs": [
    {
     "data": {
      "text/plain": [
       "True"
      ]
     },
     "execution_count": 68,
     "metadata": {},
     "output_type": "execute_result"
    }
   ],
   "source": [
    "even_check_list([1,2,5]) # true is returned is 2 is the even number in the List"
   ]
  },
  {
   "cell_type": "raw",
   "id": "aa360b58-1da0-4706-9de1-816f35086598",
   "metadata": {},
   "source": [
    "#in the above function , if odd number is there the it should retrun false\n",
    "def even_check_list(num_list):\n",
    "    for number in num_list:\n",
    "        if number % 2 ==0:\n",
    "            return True\n",
    "        else:\n",
    "            return False # THIS IS WRONG !!It return false for any list Because it is only checking the first number as there is return in the both conditions.\n"
   ]
  },
  {
   "cell_type": "code",
   "execution_count": 69,
   "id": "f7985286-424e-44cb-8a6a-6117e7587ed1",
   "metadata": {},
   "outputs": [],
   "source": [
    "def even_check_list(num_list):\n",
    "    for number in num_list:\n",
    "        if number % 2 ==0:\n",
    "            return True\n",
    "        else:\n",
    "            return False"
   ]
  },
  {
   "cell_type": "code",
   "execution_count": 70,
   "id": "0b892512-2dfd-4f19-827e-415a8b906fe4",
   "metadata": {},
   "outputs": [
    {
     "data": {
      "text/plain": [
       "False"
      ]
     },
     "execution_count": 70,
     "metadata": {},
     "output_type": "execute_result"
    }
   ],
   "source": [
    "even_check_list([1,3,5])"
   ]
  },
  {
   "cell_type": "code",
   "execution_count": 71,
   "id": "2e996d9d-6c00-4e46-b43b-c857e4d9ecf9",
   "metadata": {},
   "outputs": [
    {
     "data": {
      "text/plain": [
       "False"
      ]
     },
     "execution_count": 71,
     "metadata": {},
     "output_type": "execute_result"
    }
   ],
   "source": [
    "even_check_list([1,2,5])"
   ]
  },
  {
   "cell_type": "raw",
   "id": "c18da31b-25b0-4175-b529-4c57e6bc9f85",
   "metadata": {},
   "source": [
    "Correct indentation is with the for loop and not inside the loop"
   ]
  },
  {
   "cell_type": "code",
   "execution_count": 73,
   "id": "fca13a96-7a11-4f6a-9125-e01e2e24afa2",
   "metadata": {},
   "outputs": [],
   "source": [
    "def even_check_list(num_list):\n",
    "    for number in num_list:\n",
    "        if number % 2 ==0:\n",
    "            return True\n",
    "        else:\n",
    "            pass\n",
    "    return False"
   ]
  },
  {
   "cell_type": "code",
   "execution_count": 74,
   "id": "1a07bd2e-d3b7-4b6d-89c5-0791c3352f0d",
   "metadata": {},
   "outputs": [
    {
     "data": {
      "text/plain": [
       "False"
      ]
     },
     "execution_count": 74,
     "metadata": {},
     "output_type": "execute_result"
    }
   ],
   "source": [
    "even_check_list([1,3,5])"
   ]
  },
  {
   "cell_type": "code",
   "execution_count": 75,
   "id": "64978501-4eb8-46f9-a910-0a1592b31385",
   "metadata": {},
   "outputs": [
    {
     "data": {
      "text/plain": [
       "True"
      ]
     },
     "execution_count": 75,
     "metadata": {},
     "output_type": "execute_result"
    }
   ],
   "source": [
    "even_check_list([1,2,5])"
   ]
  },
  {
   "cell_type": "raw",
   "id": "9bbb2ca9-6dc9-4ebe-a2b5-de9c6e2aa12e",
   "metadata": {},
   "source": [
    "Return all the even numbers in a list"
   ]
  },
  {
   "cell_type": "code",
   "execution_count": 76,
   "id": "756b3222-ffb6-4a8c-a105-0c585b2846b7",
   "metadata": {},
   "outputs": [],
   "source": [
    "def even_check_list(num_list):\n",
    "    #return all the even numbers in a list\n",
    "    #placeholde variable\n",
    "    even_numbers=[]\n",
    "    \n",
    "    for number in num_list:\n",
    "        if number % 2 ==0:\n",
    "            even_numbers.append(number)\n",
    "        else:\n",
    "            pass\n",
    "    return even_numbers"
   ]
  },
  {
   "cell_type": "code",
   "execution_count": 77,
   "id": "c6d83b0e-86de-4866-b455-7ed085bcd0c2",
   "metadata": {},
   "outputs": [
    {
     "data": {
      "text/plain": [
       "[2, 4]"
      ]
     },
     "execution_count": 77,
     "metadata": {},
     "output_type": "execute_result"
    }
   ],
   "source": [
    "even_check_list([1,2,5,4])"
   ]
  },
  {
   "cell_type": "code",
   "execution_count": 78,
   "id": "db6ce928-1961-4594-9d81-e4c34ceedd7e",
   "metadata": {},
   "outputs": [
    {
     "data": {
      "text/plain": [
       "[]"
      ]
     },
     "execution_count": 78,
     "metadata": {},
     "output_type": "execute_result"
    }
   ],
   "source": [
    "even_check_list([1,3,5])"
   ]
  },
  {
   "cell_type": "code",
   "execution_count": null,
   "id": "816ec93e-c509-42f2-b6d6-83e34935b73a",
   "metadata": {},
   "outputs": [],
   "source": []
  }
 ],
 "metadata": {
  "kernelspec": {
   "display_name": "Python 3 (ipykernel)",
   "language": "python",
   "name": "python3"
  },
  "language_info": {
   "codemirror_mode": {
    "name": "ipython",
    "version": 3
   },
   "file_extension": ".py",
   "mimetype": "text/x-python",
   "name": "python",
   "nbconvert_exporter": "python",
   "pygments_lexer": "ipython3",
   "version": "3.9.13"
  }
 },
 "nbformat": 4,
 "nbformat_minor": 5
}

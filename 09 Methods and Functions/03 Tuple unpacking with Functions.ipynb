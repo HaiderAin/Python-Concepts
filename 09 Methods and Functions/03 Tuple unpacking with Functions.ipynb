{
 "cells": [
  {
   "cell_type": "code",
   "execution_count": 1,
   "id": "f8c23a08-7030-4a0d-8ec4-8d952f0be8bf",
   "metadata": {},
   "outputs": [],
   "source": [
    "stock_prices=[('GOOG', 200), ('APPL',400),('MFST',800)]"
   ]
  },
  {
   "cell_type": "code",
   "execution_count": 4,
   "id": "5ac585e5-3451-4980-8901-663908cfa7e1",
   "metadata": {},
   "outputs": [
    {
     "name": "stdout",
     "output_type": "stream",
     "text": [
      "('GOOG', 200)\n",
      "('APPL', 400)\n",
      "('MFST', 800)\n"
     ]
    }
   ],
   "source": [
    "for item in stock_prices:\n",
    "    print(item)"
   ]
  },
  {
   "cell_type": "code",
   "execution_count": 5,
   "id": "ba85b9aa-c0f4-4133-9247-c01559a50871",
   "metadata": {},
   "outputs": [
    {
     "name": "stdout",
     "output_type": "stream",
     "text": [
      "GOOG\n",
      "APPL\n",
      "MFST\n"
     ]
    }
   ],
   "source": [
    "for share,price in stock_prices:\n",
    "    print(share)"
   ]
  },
  {
   "cell_type": "code",
   "execution_count": 6,
   "id": "82bcda2c-d393-4e6a-b913-1d91aa9f1ac8",
   "metadata": {},
   "outputs": [
    {
     "name": "stdout",
     "output_type": "stream",
     "text": [
      "200\n",
      "400\n",
      "800\n"
     ]
    }
   ],
   "source": [
    "for share,price in stock_prices:\n",
    "    print(price)"
   ]
  },
  {
   "cell_type": "raw",
   "id": "6172f702-e777-4c9b-8d2a-9f8ef8bf5af2",
   "metadata": {},
   "source": [
    "Doing the above thing using functions .\n",
    "For example, \n",
    "In the given list below , find the out the employee with highesr number of hours and give him employee of the month award"
   ]
  },
  {
   "cell_type": "code",
   "execution_count": 7,
   "id": "2b5d8a3e-291c-46d8-ad39-d81abc19e68b",
   "metadata": {},
   "outputs": [],
   "source": [
    "work_hours = [('Haider',100),('Rahul',200),('Ashish',900)]"
   ]
  },
  {
   "cell_type": "code",
   "execution_count": 11,
   "id": "cbfbc6b3-5a67-45e4-be7b-1016d438894e",
   "metadata": {},
   "outputs": [],
   "source": [
    "def employee_check(work_hours):\n",
    "    current_max=0  #currently set the max hours to 0, then 100 for the first time and assign\n",
    "    #employee_of_month and then moves forward util finds the employee with highest hours\n",
    "    employee_of_month=''\n",
    "    for employee,hours in work_hours:\n",
    "        if hours > current_max:\n",
    "            current_max=hours\n",
    "            employee_of_month=employee\n",
    "        else:\n",
    "            pass\n",
    "\n",
    "    #return\n",
    "    return(employee_of_month,current_max)\n",
    "    \n",
    "    "
   ]
  },
  {
   "cell_type": "code",
   "execution_count": 14,
   "id": "707ce2c8-b93c-4417-a613-5cef9872bb29",
   "metadata": {},
   "outputs": [],
   "source": [
    "result=employee_check(work_hours)"
   ]
  },
  {
   "cell_type": "code",
   "execution_count": 15,
   "id": "da0cb177-326a-4f57-89a9-0bbf96194c05",
   "metadata": {},
   "outputs": [
    {
     "data": {
      "text/plain": [
       "('Ashish', 900)"
      ]
     },
     "execution_count": 15,
     "metadata": {},
     "output_type": "execute_result"
    }
   ],
   "source": [
    "result"
   ]
  },
  {
   "cell_type": "code",
   "execution_count": null,
   "id": "9378a224-f54e-47ad-8670-97ef78c7bc9f",
   "metadata": {},
   "outputs": [],
   "source": [
    "name,hours=employee_check(work_hours)"
   ]
  }
 ],
 "metadata": {
  "kernelspec": {
   "display_name": "Python 3 (ipykernel)",
   "language": "python",
   "name": "python3"
  },
  "language_info": {
   "codemirror_mode": {
    "name": "ipython",
    "version": 3
   },
   "file_extension": ".py",
   "mimetype": "text/x-python",
   "name": "python",
   "nbconvert_exporter": "python",
   "pygments_lexer": "ipython3",
   "version": "3.9.13"
  }
 },
 "nbformat": 4,
 "nbformat_minor": 5
}

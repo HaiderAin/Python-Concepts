{
 "cells": [
  {
   "cell_type": "code",
   "execution_count": 1,
   "id": "3b62cd44-ef56-4ff0-b38f-23b3afc4fe6d",
   "metadata": {},
   "outputs": [
    {
     "data": {
      "text/plain": [
       "True"
      ]
     },
     "execution_count": 1,
     "metadata": {},
     "output_type": "execute_result"
    }
   ],
   "source": [
    "#to check equality\n",
    "2==2  #it should return True of the condition is True"
   ]
  },
  {
   "cell_type": "code",
   "execution_count": 3,
   "id": "006bcd2e-5a93-4f94-84ad-97d91123b603",
   "metadata": {},
   "outputs": [
    {
     "data": {
      "text/plain": [
       "False"
      ]
     },
     "execution_count": 3,
     "metadata": {},
     "output_type": "execute_result"
    }
   ],
   "source": [
    "#you can compare the strings too\n",
    "'Hi'=='hi'"
   ]
  },
  {
   "cell_type": "code",
   "execution_count": 4,
   "id": "77d09079-548a-4b36-953b-1aad00d4c860",
   "metadata": {},
   "outputs": [
    {
     "data": {
      "text/plain": [
       "True"
      ]
     },
     "execution_count": 4,
     "metadata": {},
     "output_type": "execute_result"
    }
   ],
   "source": [
    "'Hi'=='Hi'"
   ]
  },
  {
   "cell_type": "code",
   "execution_count": 5,
   "id": "6758bfc3-6509-4fda-9341-4eeb604e6153",
   "metadata": {},
   "outputs": [
    {
     "data": {
      "text/plain": [
       "False"
      ]
     },
     "execution_count": 5,
     "metadata": {},
     "output_type": "execute_result"
    }
   ],
   "source": [
    "1==2"
   ]
  },
  {
   "cell_type": "code",
   "execution_count": 6,
   "id": "98a45f2b-babb-4006-8ed1-1b752a8e34fb",
   "metadata": {},
   "outputs": [
    {
     "data": {
      "text/plain": [
       "False"
      ]
     },
     "execution_count": 6,
     "metadata": {},
     "output_type": "execute_result"
    }
   ],
   "source": [
    "2>3"
   ]
  },
  {
   "cell_type": "code",
   "execution_count": 7,
   "id": "28205140-8334-41f5-8fa2-d334eca525de",
   "metadata": {},
   "outputs": [
    {
     "data": {
      "text/plain": [
       "True"
      ]
     },
     "execution_count": 7,
     "metadata": {},
     "output_type": "execute_result"
    }
   ],
   "source": [
    "2<3"
   ]
  },
  {
   "cell_type": "code",
   "execution_count": 8,
   "id": "b06b6e67-c21d-4cdd-8082-2971556b38cf",
   "metadata": {},
   "outputs": [
    {
     "data": {
      "text/plain": [
       "True"
      ]
     },
     "execution_count": 8,
     "metadata": {},
     "output_type": "execute_result"
    }
   ],
   "source": [
    "2>=2"
   ]
  },
  {
   "cell_type": "code",
   "execution_count": 9,
   "id": "dbbea22b-f17d-40b4-8376-bbfaebbe96e0",
   "metadata": {},
   "outputs": [
    {
     "data": {
      "text/plain": [
       "True"
      ]
     },
     "execution_count": 9,
     "metadata": {},
     "output_type": "execute_result"
    }
   ],
   "source": [
    "2<=2"
   ]
  },
  {
   "cell_type": "code",
   "execution_count": 10,
   "id": "7c1b18a2-f974-4940-a8ab-1688d5b50cff",
   "metadata": {},
   "outputs": [
    {
     "data": {
      "text/plain": [
       "True"
      ]
     },
     "execution_count": 10,
     "metadata": {},
     "output_type": "execute_result"
    }
   ],
   "source": [
    "2!=3"
   ]
  },
  {
   "cell_type": "markdown",
   "id": "cd46a2dd-3086-4f4e-95d9-a3eeb3678b26",
   "metadata": {},
   "source": [
    "## Chaining Comparison Operators"
   ]
  },
  {
   "cell_type": "markdown",
   "id": "3ced4e0a-93e3-470a-b7ee-4fc6ba53dd22",
   "metadata": {},
   "source": [
    "It means combining AND, OR and NOT Logical operators"
   ]
  },
  {
   "cell_type": "code",
   "execution_count": 11,
   "id": "854bcf0b-a2f4-4886-b9c5-7e299f690ecf",
   "metadata": {},
   "outputs": [
    {
     "data": {
      "text/plain": [
       "True"
      ]
     },
     "execution_count": 11,
     "metadata": {},
     "output_type": "execute_result"
    }
   ],
   "source": [
    "1<2<3"
   ]
  },
  {
   "cell_type": "code",
   "execution_count": 12,
   "id": "ae6cc68a-9149-453a-924e-a5671c92c5b1",
   "metadata": {},
   "outputs": [
    {
     "data": {
      "text/plain": [
       "False"
      ]
     },
     "execution_count": 12,
     "metadata": {},
     "output_type": "execute_result"
    }
   ],
   "source": [
    "1<2>3\n",
    "#We are comparing the three operators here"
   ]
  },
  {
   "cell_type": "code",
   "execution_count": 13,
   "id": "d0ddf4db-6f37-4d36-85ab-b6210ab5dd83",
   "metadata": {},
   "outputs": [
    {
     "data": {
      "text/plain": [
       "False"
      ]
     },
     "execution_count": 13,
     "metadata": {},
     "output_type": "execute_result"
    }
   ],
   "source": [
    "#last operation can be done using the logical operators\n",
    "1<2 and 2>3"
   ]
  },
  {
   "cell_type": "code",
   "execution_count": 14,
   "id": "947ad400-d24d-49a8-b177-cd5361d692b5",
   "metadata": {},
   "outputs": [
    {
     "data": {
      "text/plain": [
       "True"
      ]
     },
     "execution_count": 14,
     "metadata": {},
     "output_type": "execute_result"
    }
   ],
   "source": [
    "1<2 and 2<3"
   ]
  },
  {
   "cell_type": "code",
   "execution_count": 15,
   "id": "74bbacc6-53f0-49bb-8136-fddb7617728a",
   "metadata": {},
   "outputs": [
    {
     "data": {
      "text/plain": [
       "True"
      ]
     },
     "execution_count": 15,
     "metadata": {},
     "output_type": "execute_result"
    }
   ],
   "source": [
    "#user paranthesis for better readability\n",
    "(1<2) and (2<3)"
   ]
  },
  {
   "cell_type": "code",
   "execution_count": 19,
   "id": "67497e0f-1593-47d0-9d6e-7ebf77e068a7",
   "metadata": {},
   "outputs": [
    {
     "data": {
      "text/plain": [
       "True"
      ]
     },
     "execution_count": 19,
     "metadata": {},
     "output_type": "execute_result"
    }
   ],
   "source": [
    "#in OR logical operator , only one conditions should be true\n",
    "1==1 or 2==2"
   ]
  },
  {
   "cell_type": "code",
   "execution_count": 20,
   "id": "c429ad6e-b45c-4d23-ac22-7e67b4e9a243",
   "metadata": {},
   "outputs": [
    {
     "data": {
      "text/plain": [
       "False"
      ]
     },
     "execution_count": 20,
     "metadata": {},
     "output_type": "execute_result"
    }
   ],
   "source": [
    "#NOT operator, it will return just opposite of the conditions of the output\n",
    "#1==1 is True but it will change True to False\n",
    "not 1==1"
   ]
  },
  {
   "cell_type": "code",
   "execution_count": null,
   "id": "4fe4b196-8381-406a-b37a-004eb0c10d32",
   "metadata": {},
   "outputs": [],
   "source": []
  }
 ],
 "metadata": {
  "kernelspec": {
   "display_name": "Python 3 (ipykernel)",
   "language": "python",
   "name": "python3"
  },
  "language_info": {
   "codemirror_mode": {
    "name": "ipython",
    "version": 3
   },
   "file_extension": ".py",
   "mimetype": "text/x-python",
   "name": "python",
   "nbconvert_exporter": "python",
   "pygments_lexer": "ipython3",
   "version": "3.9.13"
  }
 },
 "nbformat": 4,
 "nbformat_minor": 5
}

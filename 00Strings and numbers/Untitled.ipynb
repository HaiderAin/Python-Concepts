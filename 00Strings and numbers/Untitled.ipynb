{
 "cells": [
  {
   "cell_type": "markdown",
   "id": "7a6ead57",
   "metadata": {},
   "source": [
    "# Print Formatting with .formate()\n"
   ]
  },
  {
   "cell_type": "markdown",
   "id": "32959287",
   "metadata": {},
   "source": [
    "print(strings here {this takes an input}.formate ('the input which will be passed')) "
   ]
  },
  {
   "cell_type": "code",
   "execution_count": 3,
   "id": "1a3e3632",
   "metadata": {},
   "outputs": [
    {
     "name": "stdout",
     "output_type": "stream",
     "text": [
      "The weathe is cold\n"
     ]
    }
   ],
   "source": [
    "print(\"The weather is {}\".format('cold'))\n",
    "#'cold' is passed as the argument to the {}"
   ]
  },
  {
   "cell_type": "code",
   "execution_count": 5,
   "id": "63e3b7df",
   "metadata": {},
   "outputs": [
    {
     "name": "stdout",
     "output_type": "stream",
     "text": [
      "The weather is cold I like it\n"
     ]
    }
   ],
   "source": [
    "print(\"The weather is {}{}\".format('cold',' I like it'))\n",
    "#the arguments are passed to the index positions"
   ]
  },
  {
   "cell_type": "code",
   "execution_count": 8,
   "id": "20b05476",
   "metadata": {},
   "outputs": [
    {
     "name": "stdout",
     "output_type": "stream",
     "text": [
      "The weather is  I like it cold\n"
     ]
    }
   ],
   "source": [
    "print(\"The weather is {1}{0}\".format(' cold',' I like it'))"
   ]
  },
  {
   "cell_type": "code",
   "execution_count": 9,
   "id": "1716e85a",
   "metadata": {},
   "outputs": [
    {
     "name": "stdout",
     "output_type": "stream",
     "text": [
      "The weather is  cold cold\n"
     ]
    }
   ],
   "source": [
    "print(\"The weather is {0}{0}\".format(' cold',' I like it'))"
   ]
  },
  {
   "cell_type": "code",
   "execution_count": 10,
   "id": "d78b6437",
   "metadata": {},
   "outputs": [
    {
     "name": "stdout",
     "output_type": "stream",
     "text": [
      "The weather is  I like it I like it\n"
     ]
    }
   ],
   "source": [
    "print(\"The weather is {1}{1}\".format(' cold',' I like it'))\n",
    "#mind the indexes passed"
   ]
  },
  {
   "cell_type": "code",
   "execution_count": 13,
   "id": "17f98f0f",
   "metadata": {
    "scrolled": false
   },
   "outputs": [
    {
     "name": "stdout",
     "output_type": "stream",
     "text": [
      "The weather is cold I like it\n"
     ]
    }
   ],
   "source": [
    "#you can assign a key to the arguments for better clarity\n",
    "#And pass the arguments with assignement names\n",
    "print(\"The weather is {a}{b}\".format(a='cold',b=' I like it'))"
   ]
  },
  {
   "cell_type": "markdown",
   "id": "8af22a8b",
   "metadata": {},
   "source": [
    "# Fload Formatting follows \"{value:width.precision f}\""
   ]
  },
  {
   "cell_type": "code",
   "execution_count": 14,
   "id": "82ee797b",
   "metadata": {},
   "outputs": [],
   "source": [
    "result=50/7"
   ]
  },
  {
   "cell_type": "code",
   "execution_count": 15,
   "id": "96bb3c02",
   "metadata": {},
   "outputs": [
    {
     "data": {
      "text/plain": [
       "7.142857142857143"
      ]
     },
     "execution_count": 15,
     "metadata": {},
     "output_type": "execute_result"
    }
   ],
   "source": [
    "result"
   ]
  },
  {
   "cell_type": "code",
   "execution_count": 20,
   "id": "50301446",
   "metadata": {},
   "outputs": [
    {
     "name": "stdout",
     "output_type": "stream",
     "text": [
      "The result is 7.142857142857143\n"
     ]
    }
   ],
   "source": [
    "print('The result is {}'.format(result))"
   ]
  },
  {
   "cell_type": "code",
   "execution_count": 21,
   "id": "6cc37d2b",
   "metadata": {},
   "outputs": [
    {
     "name": "stdout",
     "output_type": "stream",
     "text": [
      "The result is 7.142857142857143\n"
     ]
    }
   ],
   "source": [
    "print('The result is {r}'.format(r=result))"
   ]
  },
  {
   "cell_type": "code",
   "execution_count": 22,
   "id": "160bc233",
   "metadata": {},
   "outputs": [
    {
     "name": "stdout",
     "output_type": "stream",
     "text": [
      "The result is 7.14\n"
     ]
    }
   ],
   "source": [
    "#using the precision\n",
    "print('The result is {r:1.2f}'.format(r=result))"
   ]
  },
  {
   "cell_type": "code",
   "execution_count": 23,
   "id": "c8122153",
   "metadata": {},
   "outputs": [
    {
     "name": "stdout",
     "output_type": "stream",
     "text": [
      "The result is                 7.14\n"
     ]
    }
   ],
   "source": [
    "#if you want to increase the width , it means adding extra spaces\n",
    "print('The result is {r:20.2f}'.format(r=result))\n",
    "#removed 1 after r: and added 20"
   ]
  },
  {
   "cell_type": "markdown",
   "id": "bec03985",
   "metadata": {},
   "source": [
    "\n",
    "# F-strings"
   ]
  },
  {
   "cell_type": "markdown",
   "id": "1c93bb83",
   "metadata": {},
   "source": [
    "takes the arguments in the same line and gives the output"
   ]
  },
  {
   "cell_type": "code",
   "execution_count": 24,
   "id": "8ca4e619",
   "metadata": {},
   "outputs": [],
   "source": [
    "name='Haider'\n",
    "age=20"
   ]
  },
  {
   "cell_type": "code",
   "execution_count": 30,
   "id": "38624b61",
   "metadata": {},
   "outputs": [
    {
     "name": "stdout",
     "output_type": "stream",
     "text": [
      " Your name is Haider.\n"
     ]
    }
   ],
   "source": [
    "print(f' Your name is {name}.')"
   ]
  },
  {
   "cell_type": "code",
   "execution_count": 31,
   "id": "a563d791",
   "metadata": {},
   "outputs": [
    {
     "name": "stdout",
     "output_type": "stream",
     "text": [
      " Hello Haider, you age is 20.\n"
     ]
    }
   ],
   "source": [
    "print(f' Hello {name}, you age is {age}.')"
   ]
  },
  {
   "cell_type": "code",
   "execution_count": null,
   "id": "4a263ed6",
   "metadata": {},
   "outputs": [],
   "source": []
  }
 ],
 "metadata": {
  "kernelspec": {
   "display_name": "Python 3",
   "language": "python",
   "name": "python3"
  },
  "language_info": {
   "codemirror_mode": {
    "name": "ipython",
    "version": 3
   },
   "file_extension": ".py",
   "mimetype": "text/x-python",
   "name": "python",
   "nbconvert_exporter": "python",
   "pygments_lexer": "ipython3",
   "version": "3.8.8"
  }
 },
 "nbformat": 4,
 "nbformat_minor": 5
}

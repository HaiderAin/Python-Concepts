{
 "cells": [
  {
   "cell_type": "markdown",
   "id": "417a424b",
   "metadata": {},
   "source": [
    "# Immutablility "
   ]
  },
  {
   "cell_type": "markdown",
   "id": "3621789f",
   "metadata": {},
   "source": [
    " means you cannot change the strings once it is created\n",
    " You cannot assign a new item\n",
    " "
   ]
  },
  {
   "cell_type": "code",
   "execution_count": 1,
   "id": "92cac334",
   "metadata": {},
   "outputs": [],
   "source": [
    "name=\"Haider\""
   ]
  },
  {
   "cell_type": "code",
   "execution_count": 2,
   "id": "96496b3a",
   "metadata": {},
   "outputs": [
    {
     "data": {
      "text/plain": [
       "'Haider'"
      ]
     },
     "execution_count": 2,
     "metadata": {},
     "output_type": "execute_result"
    }
   ],
   "source": [
    "name"
   ]
  },
  {
   "cell_type": "code",
   "execution_count": 7,
   "id": "5013c8a2",
   "metadata": {
    "scrolled": true
   },
   "outputs": [
    {
     "ename": "TypeError",
     "evalue": "'str' object does not support item assignment",
     "output_type": "error",
     "traceback": [
      "\u001b[1;31m---------------------------------------------------------------------------\u001b[0m",
      "\u001b[1;31mTypeError\u001b[0m                                 Traceback (most recent call last)",
      "\u001b[1;32m<ipython-input-7-f39142e176b8>\u001b[0m in \u001b[0;36m<module>\u001b[1;34m\u001b[0m\n\u001b[0;32m      1\u001b[0m \u001b[1;31m#trying to change H to Q in the string \"Haider\"\u001b[0m\u001b[1;33m\u001b[0m\u001b[1;33m\u001b[0m\u001b[1;33m\u001b[0m\u001b[0m\n\u001b[1;32m----> 2\u001b[1;33m \u001b[0mname\u001b[0m\u001b[1;33m[\u001b[0m\u001b[1;36m0\u001b[0m\u001b[1;33m]\u001b[0m\u001b[1;33m=\u001b[0m\u001b[1;34m'Q'\u001b[0m\u001b[1;33m\u001b[0m\u001b[1;33m\u001b[0m\u001b[0m\n\u001b[0m\u001b[0;32m      3\u001b[0m \u001b[1;33m\u001b[0m\u001b[0m\n\u001b[0;32m      4\u001b[0m \u001b[1;31m#note down the error\u001b[0m\u001b[1;33m\u001b[0m\u001b[1;33m\u001b[0m\u001b[1;33m\u001b[0m\u001b[0m\n",
      "\u001b[1;31mTypeError\u001b[0m: 'str' object does not support item assignment"
     ]
    }
   ],
   "source": [
    "#trying to change H to Q in the string \"Haider\"\n",
    "name[0]='Q'\n",
    "\n",
    "#note down the error\n",
    "#TypeError: 'str' object does not support item assignment"
   ]
  },
  {
   "cell_type": "markdown",
   "id": "cef50270",
   "metadata": {},
   "source": [
    "# string concatenation \n",
    "Adding two or more strings"
   ]
  },
  {
   "cell_type": "code",
   "execution_count": 8,
   "id": "5a05cd3b",
   "metadata": {},
   "outputs": [],
   "source": [
    "first_name='Haider'\n",
    "last_name='Ain'"
   ]
  },
  {
   "cell_type": "code",
   "execution_count": 9,
   "id": "ed9f46f2",
   "metadata": {},
   "outputs": [
    {
     "data": {
      "text/plain": [
       "'HaiderAin'"
      ]
     },
     "execution_count": 9,
     "metadata": {},
     "output_type": "execute_result"
    }
   ],
   "source": [
    "first_name + last_name"
   ]
  },
  {
   "cell_type": "code",
   "execution_count": 12,
   "id": "1fd0a676",
   "metadata": {},
   "outputs": [],
   "source": [
    "greet=\"Hello \" + first_name + \" How are you?\""
   ]
  },
  {
   "cell_type": "code",
   "execution_count": 13,
   "id": "8a92e613",
   "metadata": {},
   "outputs": [
    {
     "data": {
      "text/plain": [
       "'Hello Haider How are you?'"
      ]
     },
     "execution_count": 13,
     "metadata": {},
     "output_type": "execute_result"
    }
   ],
   "source": [
    "greet"
   ]
  },
  {
   "cell_type": "markdown",
   "id": "f7c0214d",
   "metadata": {},
   "source": [
    "# multiplication of strings"
   ]
  },
  {
   "cell_type": "code",
   "execution_count": 16,
   "id": "149e243b",
   "metadata": {},
   "outputs": [],
   "source": [
    "message='Wake Up'"
   ]
  },
  {
   "cell_type": "code",
   "execution_count": 17,
   "id": "007f641d",
   "metadata": {},
   "outputs": [
    {
     "data": {
      "text/plain": [
       "'Wake Up'"
      ]
     },
     "execution_count": 17,
     "metadata": {},
     "output_type": "execute_result"
    }
   ],
   "source": [
    "message"
   ]
  },
  {
   "cell_type": "code",
   "execution_count": 19,
   "id": "057703f2",
   "metadata": {},
   "outputs": [
    {
     "data": {
      "text/plain": [
       "'Wake UpWake UpWake UpWake UpWake UpWake UpWake UpWake UpWake UpWake Up'"
      ]
     },
     "execution_count": 19,
     "metadata": {},
     "output_type": "execute_result"
    }
   ],
   "source": [
    "message * 10"
   ]
  },
  {
   "cell_type": "markdown",
   "id": "d9b59950",
   "metadata": {},
   "source": [
    "# cannot add different data types"
   ]
  },
  {
   "cell_type": "code",
   "execution_count": 20,
   "id": "d5936f20",
   "metadata": {},
   "outputs": [
    {
     "data": {
      "text/plain": [
       "'12'"
      ]
     },
     "execution_count": 20,
     "metadata": {},
     "output_type": "execute_result"
    }
   ],
   "source": [
    "#number in quotes are considered as strings\n",
    "'1'+'2'"
   ]
  },
  {
   "cell_type": "code",
   "execution_count": 21,
   "id": "b7392eb1",
   "metadata": {},
   "outputs": [
    {
     "ename": "TypeError",
     "evalue": "can only concatenate str (not \"int\") to str",
     "output_type": "error",
     "traceback": [
      "\u001b[1;31m---------------------------------------------------------------------------\u001b[0m",
      "\u001b[1;31mTypeError\u001b[0m                                 Traceback (most recent call last)",
      "\u001b[1;32m<ipython-input-21-6457bb4bc715>\u001b[0m in \u001b[0;36m<module>\u001b[1;34m\u001b[0m\n\u001b[0;32m      1\u001b[0m \u001b[1;31m#adding string and number\u001b[0m\u001b[1;33m\u001b[0m\u001b[1;33m\u001b[0m\u001b[1;33m\u001b[0m\u001b[0m\n\u001b[1;32m----> 2\u001b[1;33m \u001b[1;34m\"Haider\"\u001b[0m\u001b[1;33m+\u001b[0m\u001b[1;36m2\u001b[0m\u001b[1;33m\u001b[0m\u001b[1;33m\u001b[0m\u001b[0m\n\u001b[0m",
      "\u001b[1;31mTypeError\u001b[0m: can only concatenate str (not \"int\") to str"
     ]
    }
   ],
   "source": [
    "#adding string and number\n",
    "\"Haider\"+2"
   ]
  },
  {
   "cell_type": "markdown",
   "id": "1758dddf",
   "metadata": {},
   "source": [
    "# Build in String Methods"
   ]
  },
  {
   "cell_type": "code",
   "execution_count": 22,
   "id": "e828effa",
   "metadata": {},
   "outputs": [],
   "source": [
    "x='Hello Guys'"
   ]
  },
  {
   "cell_type": "code",
   "execution_count": 23,
   "id": "696602ba",
   "metadata": {},
   "outputs": [
    {
     "data": {
      "text/plain": [
       "'Hello guys'"
      ]
     },
     "execution_count": 23,
     "metadata": {},
     "output_type": "execute_result"
    }
   ],
   "source": [
    "# when you type x. and then TAB you will see all the methods available\n",
    "#in the strings\n",
    "x.capitalize()"
   ]
  },
  {
   "cell_type": "code",
   "execution_count": 24,
   "id": "bfaf0ef7",
   "metadata": {},
   "outputs": [
    {
     "data": {
      "text/plain": [
       "'HELLO GUYS'"
      ]
     },
     "execution_count": 24,
     "metadata": {},
     "output_type": "execute_result"
    }
   ],
   "source": [
    "x.upper()"
   ]
  },
  {
   "cell_type": "code",
   "execution_count": 25,
   "id": "90ee251c",
   "metadata": {},
   "outputs": [
    {
     "data": {
      "text/plain": [
       "'hello guys'"
      ]
     },
     "execution_count": 25,
     "metadata": {},
     "output_type": "execute_result"
    }
   ],
   "source": [
    "x.lower()"
   ]
  },
  {
   "cell_type": "code",
   "execution_count": 26,
   "id": "7acf6f43",
   "metadata": {},
   "outputs": [
    {
     "data": {
      "text/plain": [
       "['Hello', 'Guys']"
      ]
     },
     "execution_count": 26,
     "metadata": {},
     "output_type": "execute_result"
    }
   ],
   "source": [
    "x.split()"
   ]
  },
  {
   "cell_type": "code",
   "execution_count": 29,
   "id": "7221857f",
   "metadata": {},
   "outputs": [
    {
     "data": {
      "text/plain": [
       "9"
      ]
     },
     "execution_count": 29,
     "metadata": {},
     "output_type": "execute_result"
    }
   ],
   "source": [
    "x.index('s')"
   ]
  },
  {
   "cell_type": "code",
   "execution_count": 31,
   "id": "4f41b6b9",
   "metadata": {},
   "outputs": [
    {
     "data": {
      "text/plain": [
       "['Hell', ' Guys']"
      ]
     },
     "execution_count": 31,
     "metadata": {},
     "output_type": "execute_result"
    }
   ],
   "source": [
    "x.split('o')"
   ]
  },
  {
   "cell_type": "code",
   "execution_count": 32,
   "id": "d9537ff1",
   "metadata": {},
   "outputs": [
    {
     "data": {
      "text/plain": [
       "['Hello ', 'uys']"
      ]
     },
     "execution_count": 32,
     "metadata": {},
     "output_type": "execute_result"
    }
   ],
   "source": [
    "x.split('G')"
   ]
  },
  {
   "cell_type": "code",
   "execution_count": null,
   "id": "30cce2e0",
   "metadata": {},
   "outputs": [],
   "source": []
  }
 ],
 "metadata": {
  "kernelspec": {
   "display_name": "Python 3",
   "language": "python",
   "name": "python3"
  },
  "language_info": {
   "codemirror_mode": {
    "name": "ipython",
    "version": 3
   },
   "file_extension": ".py",
   "mimetype": "text/x-python",
   "name": "python",
   "nbconvert_exporter": "python",
   "pygments_lexer": "ipython3",
   "version": "3.8.8"
  }
 },
 "nbformat": 4,
 "nbformat_minor": 5
}

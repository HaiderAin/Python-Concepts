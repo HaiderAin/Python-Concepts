{
 "cells": [
  {
   "cell_type": "markdown",
   "id": "1eba5481",
   "metadata": {},
   "source": [
    "*Chatacters in single or double quotes\n",
    "*are orderd sequence of characters\n",
    "*can be done indexing and slicing (want to grab a single character)\n",
    "#reverse indexing is possible if you want to print the characters from the end"
   ]
  },
  {
   "cell_type": "code",
   "execution_count": 1,
   "id": "81732940",
   "metadata": {},
   "outputs": [
    {
     "data": {
      "text/plain": [
       "'Hello'"
      ]
     },
     "execution_count": 1,
     "metadata": {},
     "output_type": "execute_result"
    }
   ],
   "source": [
    "'Hello'"
   ]
  },
  {
   "cell_type": "code",
   "execution_count": 2,
   "id": "7d74d96b",
   "metadata": {},
   "outputs": [
    {
     "data": {
      "text/plain": [
       "'Hello'"
      ]
     },
     "execution_count": 2,
     "metadata": {},
     "output_type": "execute_result"
    }
   ],
   "source": [
    "\"Hello\""
   ]
  },
  {
   "cell_type": "code",
   "execution_count": 3,
   "id": "4431d673",
   "metadata": {},
   "outputs": [
    {
     "data": {
      "text/plain": [
       "'This is my world'"
      ]
     },
     "execution_count": 3,
     "metadata": {},
     "output_type": "execute_result"
    }
   ],
   "source": [
    "'This is my world'"
   ]
  },
  {
   "cell_type": "code",
   "execution_count": 4,
   "id": "317f7a8b",
   "metadata": {},
   "outputs": [
    {
     "data": {
      "text/plain": [
       "'Hi, how are you'"
      ]
     },
     "execution_count": 4,
     "metadata": {},
     "output_type": "execute_result"
    }
   ],
   "source": [
    "'Hi, how are you'"
   ]
  },
  {
   "cell_type": "code",
   "execution_count": 5,
   "id": "a1fdcd0d",
   "metadata": {
    "scrolled": true
   },
   "outputs": [
    {
     "ename": "SyntaxError",
     "evalue": "invalid syntax (<ipython-input-5-8e2e00e7818b>, line 1)",
     "output_type": "error",
     "traceback": [
      "\u001b[1;36m  File \u001b[1;32m\"<ipython-input-5-8e2e00e7818b>\"\u001b[1;36m, line \u001b[1;32m1\u001b[0m\n\u001b[1;33m    'Hi I'm your teacher'\u001b[0m\n\u001b[1;37m          ^\u001b[0m\n\u001b[1;31mSyntaxError\u001b[0m\u001b[1;31m:\u001b[0m invalid syntax\n"
     ]
    }
   ],
   "source": [
    "'Hi I'm your teacher' #error due to the single quote after I,\n",
    "#if you need something like this then put them in double quotes\n"
   ]
  },
  {
   "cell_type": "code",
   "execution_count": 6,
   "id": "b7cb6ce2",
   "metadata": {},
   "outputs": [
    {
     "data": {
      "text/plain": [
       "\"Hi I'm your teacher\""
      ]
     },
     "execution_count": 6,
     "metadata": {},
     "output_type": "execute_result"
    }
   ],
   "source": [
    "\"Hi I'm your teacher\""
   ]
  },
  {
   "cell_type": "code",
   "execution_count": 7,
   "id": "f396e768",
   "metadata": {},
   "outputs": [
    {
     "data": {
      "text/plain": [
       "'Hi I am fine'"
      ]
     },
     "execution_count": 7,
     "metadata": {},
     "output_type": "execute_result"
    }
   ],
   "source": [
    "\"Hi I am fine\""
   ]
  },
  {
   "cell_type": "code",
   "execution_count": 8,
   "id": "ffe7383f",
   "metadata": {},
   "outputs": [
    {
     "data": {
      "text/plain": [
       "\"Hi I'm your teacher\""
      ]
     },
     "execution_count": 8,
     "metadata": {},
     "output_type": "execute_result"
    }
   ],
   "source": [
    "#only second line will be printed\n",
    "\"Hi I am fine\"\n",
    "\"Hi I'm your teacher\""
   ]
  },
  {
   "cell_type": "code",
   "execution_count": 9,
   "id": "c5f41c27",
   "metadata": {},
   "outputs": [
    {
     "name": "stdout",
     "output_type": "stream",
     "text": [
      "Hi I am fine\n",
      "Hi I'm your teacher\n"
     ]
    }
   ],
   "source": [
    "#to print both lines use print()\n",
    "print(\"Hi I am fine\")\n",
    "print(\"Hi I'm your teacher\")"
   ]
  },
  {
   "cell_type": "code",
   "execution_count": 10,
   "id": "fc5bd0d3",
   "metadata": {},
   "outputs": [
    {
     "name": "stdout",
     "output_type": "stream",
     "text": [
      "Hello \n",
      " I am fine\n"
     ]
    }
   ],
   "source": [
    "#use \\n escape character, to print in new lines, \\t to tab and etc\n",
    "print ('Hello \\n I am fine')"
   ]
  },
  {
   "cell_type": "code",
   "execution_count": 11,
   "id": "6bdfcb71",
   "metadata": {},
   "outputs": [
    {
     "name": "stdout",
     "output_type": "stream",
     "text": [
      "Hello \n",
      "I am fine\n"
     ]
    }
   ],
   "source": [
    "print ('Hello \\nI am fine')"
   ]
  },
  {
   "cell_type": "code",
   "execution_count": 14,
   "id": "63013d70",
   "metadata": {},
   "outputs": [
    {
     "name": "stdout",
     "output_type": "stream",
     "text": [
      "Hello\tI am fine\n"
     ]
    }
   ],
   "source": [
    "print ('Hello\\tI am fine')"
   ]
  },
  {
   "cell_type": "code",
   "execution_count": 15,
   "id": "e98942de",
   "metadata": {},
   "outputs": [
    {
     "name": "stdout",
     "output_type": "stream",
     "text": [
      "HelloIamfine\n"
     ]
    }
   ],
   "source": [
    "print ('HelloIamfine')"
   ]
  },
  {
   "cell_type": "code",
   "execution_count": 16,
   "id": "a09d62b3",
   "metadata": {},
   "outputs": [
    {
     "name": "stdout",
     "output_type": "stream",
     "text": [
      "Hello\tI\tam\tfine\n"
     ]
    }
   ],
   "source": [
    "print ('Hello\\tI\\tam\\tfine')"
   ]
  },
  {
   "cell_type": "code",
   "execution_count": 17,
   "id": "25b700a9",
   "metadata": {},
   "outputs": [
    {
     "data": {
      "text/plain": [
       "5"
      ]
     },
     "execution_count": 17,
     "metadata": {},
     "output_type": "execute_result"
    }
   ],
   "source": [
    "#lenght function to check the lenth\n",
    "len(\"hello\")"
   ]
  },
  {
   "cell_type": "code",
   "execution_count": 18,
   "id": "637188a8",
   "metadata": {},
   "outputs": [
    {
     "data": {
      "text/plain": [
       "12"
      ]
     },
     "execution_count": 18,
     "metadata": {},
     "output_type": "execute_result"
    }
   ],
   "source": [
    "len('Hi I am good') #it counts the white spaces too"
   ]
  },
  {
   "cell_type": "markdown",
   "id": "878efb21",
   "metadata": {},
   "source": [
    "# String Indexing and Slicing"
   ]
  },
  {
   "cell_type": "code",
   "execution_count": 19,
   "id": "92e08de8",
   "metadata": {},
   "outputs": [],
   "source": [
    "my_string='hello World'"
   ]
  },
  {
   "cell_type": "code",
   "execution_count": 20,
   "id": "1ff03c49",
   "metadata": {},
   "outputs": [
    {
     "name": "stdout",
     "output_type": "stream",
     "text": [
      "hello World\n"
     ]
    }
   ],
   "source": [
    "print(my_string)"
   ]
  },
  {
   "cell_type": "code",
   "execution_count": 21,
   "id": "4ca73e60",
   "metadata": {},
   "outputs": [
    {
     "data": {
      "text/plain": [
       "'h'"
      ]
     },
     "execution_count": 21,
     "metadata": {},
     "output_type": "execute_result"
    }
   ],
   "source": [
    "#if we want to print the 1st char of the string\n",
    "my_string[0]"
   ]
  },
  {
   "cell_type": "code",
   "execution_count": 22,
   "id": "3e3b619c",
   "metadata": {},
   "outputs": [
    {
     "data": {
      "text/plain": [
       "'d'"
      ]
     },
     "execution_count": 22,
     "metadata": {},
     "output_type": "execute_result"
    }
   ],
   "source": [
    "my_string[10]"
   ]
  },
  {
   "cell_type": "code",
   "execution_count": 24,
   "id": "1d948cb1",
   "metadata": {},
   "outputs": [
    {
     "ename": "IndexError",
     "evalue": "string index out of range",
     "output_type": "error",
     "traceback": [
      "\u001b[1;31m---------------------------------------------------------------------------\u001b[0m",
      "\u001b[1;31mIndexError\u001b[0m                                Traceback (most recent call last)",
      "\u001b[1;32m<ipython-input-24-072c4a0eb873>\u001b[0m in \u001b[0;36m<module>\u001b[1;34m\u001b[0m\n\u001b[1;32m----> 1\u001b[1;33m \u001b[0mmy_string\u001b[0m\u001b[1;33m[\u001b[0m\u001b[1;36m11\u001b[0m\u001b[1;33m]\u001b[0m \u001b[1;31m#more than the available characters, make a note of the\u001b[0m\u001b[1;33m\u001b[0m\u001b[1;33m\u001b[0m\u001b[0m\n\u001b[0m",
      "\u001b[1;31mIndexError\u001b[0m: string index out of range"
     ]
    }
   ],
   "source": [
    "my_string[11] #more than the available characters, make a note of \n",
    "#IndexError: string index out of range error"
   ]
  },
  {
   "cell_type": "code",
   "execution_count": 25,
   "id": "b7f58eab",
   "metadata": {},
   "outputs": [
    {
     "data": {
      "text/plain": [
       "'d'"
      ]
     },
     "execution_count": 25,
     "metadata": {},
     "output_type": "execute_result"
    }
   ],
   "source": [
    "#printing from the end\n",
    "my_string[-1]"
   ]
  },
  {
   "cell_type": "code",
   "execution_count": 26,
   "id": "3de559a8",
   "metadata": {},
   "outputs": [
    {
     "data": {
      "text/plain": [
       "'hello '"
      ]
     },
     "execution_count": 26,
     "metadata": {},
     "output_type": "execute_result"
    }
   ],
   "source": [
    "#SLICING\n",
    "#suppose you want to print only hello out of the 'hello World'\n",
    "my_string[0:6]\n",
    "#ending index is not included"
   ]
  },
  {
   "cell_type": "code",
   "execution_count": 28,
   "id": "2a97c29a",
   "metadata": {},
   "outputs": [
    {
     "data": {
      "text/plain": [
       "'hello '"
      ]
     },
     "execution_count": 28,
     "metadata": {},
     "output_type": "execute_result"
    }
   ],
   "source": [
    "#print everything utpo index 5\n",
    "my_string[:6]"
   ]
  },
  {
   "cell_type": "code",
   "execution_count": 29,
   "id": "498c002e",
   "metadata": {},
   "outputs": [
    {
     "data": {
      "text/plain": [
       "'World'"
      ]
     },
     "execution_count": 29,
     "metadata": {},
     "output_type": "execute_result"
    }
   ],
   "source": [
    "#print everything after hello\n",
    "my_string[6:]"
   ]
  },
  {
   "cell_type": "code",
   "execution_count": 31,
   "id": "d1db5b25",
   "metadata": {},
   "outputs": [
    {
     "data": {
      "text/plain": [
       "'ello '"
      ]
     },
     "execution_count": 31,
     "metadata": {},
     "output_type": "execute_result"
    }
   ],
   "source": [
    "#print only a few charatcters like ello\n",
    "my_string[1:6]\n",
    "\n",
    "#STARTing index is inclusive but ending one is exclusive"
   ]
  },
  {
   "cell_type": "code",
   "execution_count": 35,
   "id": "ef7d7067",
   "metadata": {},
   "outputs": [
    {
     "data": {
      "text/plain": [
       "'hloWrd'"
      ]
     },
     "execution_count": 35,
     "metadata": {},
     "output_type": "execute_result"
    }
   ],
   "source": [
    "#jumping the step size (means skipping letters with a given interval)\n",
    "#my_string='hello World'\n",
    "my_string[::2] \n",
    "\n",
    "#two colons means start from the first index and go until the end but\n",
    "#use the stop size of 2"
   ]
  },
  {
   "cell_type": "code",
   "execution_count": 36,
   "id": "ef1cc3d9",
   "metadata": {},
   "outputs": [
    {
     "data": {
      "text/plain": [
       "'hlWl'"
      ]
     },
     "execution_count": 36,
     "metadata": {},
     "output_type": "execute_result"
    }
   ],
   "source": [
    "my_string[::3] "
   ]
  },
  {
   "cell_type": "code",
   "execution_count": 37,
   "id": "c81e34b9",
   "metadata": {},
   "outputs": [
    {
     "data": {
      "text/plain": [
       "'loWr'"
      ]
     },
     "execution_count": 37,
     "metadata": {},
     "output_type": "execute_result"
    }
   ],
   "source": [
    "#if you want to go from certain index to certain index but want to skip \n",
    "#some of the characters\n",
    "my_string[2:10:2]\n",
    "#go from index 2 to 10 with step size of 2"
   ]
  },
  {
   "cell_type": "code",
   "execution_count": 38,
   "id": "4cc70c2b",
   "metadata": {},
   "outputs": [
    {
     "data": {
      "text/plain": [
       "'dlroW olleh'"
      ]
     },
     "execution_count": 38,
     "metadata": {},
     "output_type": "execute_result"
    }
   ],
   "source": [
    "#reverse the string\n",
    "my_string[::-1]"
   ]
  },
  {
   "cell_type": "code",
   "execution_count": null,
   "id": "9a248328",
   "metadata": {},
   "outputs": [],
   "source": []
  }
 ],
 "metadata": {
  "kernelspec": {
   "display_name": "Python 3",
   "language": "python",
   "name": "python3"
  },
  "language_info": {
   "codemirror_mode": {
    "name": "ipython",
    "version": 3
   },
   "file_extension": ".py",
   "mimetype": "text/x-python",
   "name": "python",
   "nbconvert_exporter": "python",
   "pygments_lexer": "ipython3",
   "version": "3.8.8"
  }
 },
 "nbformat": 4,
 "nbformat_minor": 5
}

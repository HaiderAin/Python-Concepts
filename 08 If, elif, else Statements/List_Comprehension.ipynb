{
 "cells": [
  {
   "cell_type": "markdown",
   "id": "799bb7db-81e2-4044-997b-389e70403e8f",
   "metadata": {},
   "source": [
    "## LIST COMPREHENSION"
   ]
  },
  {
   "cell_type": "raw",
   "id": "0edf8b63-108f-4eda-b0e6-da458704e7c2",
   "metadata": {},
   "source": [
    "It is unique way of quicly creating a list with python\n",
    "if you finr yourself using a for loop alonth with .append() to create a list, then list comprehension is the good alternative."
   ]
  },
  {
   "cell_type": "code",
   "execution_count": 2,
   "id": "bf55dca7-0499-474d-93b6-99d8d0311414",
   "metadata": {},
   "outputs": [],
   "source": [
    "mystring='Hello'\n",
    "\n",
    "#want to make a list out of each character of mystring??"
   ]
  },
  {
   "cell_type": "code",
   "execution_count": 3,
   "id": "8ec733b7-c181-485c-8bb5-816e2048eb1f",
   "metadata": {},
   "outputs": [],
   "source": [
    "mylist=[]\n",
    "for letter in mystring:\n",
    "    mylist.append(letter)"
   ]
  },
  {
   "cell_type": "code",
   "execution_count": 4,
   "id": "4bca968d-e614-4049-bd91-4745c2976a44",
   "metadata": {},
   "outputs": [
    {
     "data": {
      "text/plain": [
       "['H', 'e', 'l', 'l', 'o']"
      ]
     },
     "execution_count": 4,
     "metadata": {},
     "output_type": "execute_result"
    }
   ],
   "source": [
    "mylist"
   ]
  },
  {
   "cell_type": "code",
   "execution_count": 8,
   "id": "97131fb0-84b9-4c3f-8a66-0577c1540c06",
   "metadata": {},
   "outputs": [],
   "source": [
    "#using another method\n",
    "mylist=[letter for letter in mystring]"
   ]
  },
  {
   "cell_type": "code",
   "execution_count": 9,
   "id": "5bb6f3d9-6ff8-47b1-a0f4-e286434be0cd",
   "metadata": {},
   "outputs": [
    {
     "data": {
      "text/plain": [
       "['H', 'e', 'l', 'l', 'o']"
      ]
     },
     "execution_count": 9,
     "metadata": {},
     "output_type": "execute_result"
    }
   ],
   "source": [
    "mylist"
   ]
  },
  {
   "cell_type": "code",
   "execution_count": 11,
   "id": "c1360273-3e12-49a1-8515-88cbbff70aeb",
   "metadata": {},
   "outputs": [],
   "source": [
    "mylist=[i for i in 'Haider']"
   ]
  },
  {
   "cell_type": "code",
   "execution_count": 12,
   "id": "92588071-49f3-4810-a66c-a609a7e504fa",
   "metadata": {},
   "outputs": [
    {
     "data": {
      "text/plain": [
       "['H', 'a', 'i', 'd', 'e', 'r']"
      ]
     },
     "execution_count": 12,
     "metadata": {},
     "output_type": "execute_result"
    }
   ],
   "source": [
    "mylist"
   ]
  },
  {
   "cell_type": "code",
   "execution_count": 13,
   "id": "0de4be31-0db5-44ad-b7d8-f81a920de884",
   "metadata": {},
   "outputs": [],
   "source": [
    "mylist=[i for i in range(0,15)]"
   ]
  },
  {
   "cell_type": "code",
   "execution_count": 14,
   "id": "2b8aec83-f129-4e10-822a-7d2d080db816",
   "metadata": {},
   "outputs": [
    {
     "data": {
      "text/plain": [
       "[0, 1, 2, 3, 4, 5, 6, 7, 8, 9, 10, 11, 12, 13, 14]"
      ]
     },
     "execution_count": 14,
     "metadata": {},
     "output_type": "execute_result"
    }
   ],
   "source": [
    "mylist"
   ]
  },
  {
   "cell_type": "code",
   "execution_count": 15,
   "id": "782e794c-8c9d-43b2-88f6-39bbbbb625bb",
   "metadata": {},
   "outputs": [],
   "source": [
    "#want to sqaure of each number mentioned in the list\n",
    "mylist=[i**2 for i in range(0,15)]\n"
   ]
  },
  {
   "cell_type": "code",
   "execution_count": 16,
   "id": "1263676e-2cce-4bd8-b73c-f84afe1bb0c5",
   "metadata": {},
   "outputs": [
    {
     "data": {
      "text/plain": [
       "[0, 1, 4, 9, 16, 25, 36, 49, 64, 81, 100, 121, 144, 169, 196]"
      ]
     },
     "execution_count": 16,
     "metadata": {},
     "output_type": "execute_result"
    }
   ],
   "source": [
    "mylist"
   ]
  },
  {
   "cell_type": "code",
   "execution_count": 17,
   "id": "7dcd7337-3d03-4a47-936f-72066cb6a450",
   "metadata": {},
   "outputs": [],
   "source": [
    "#adding conditions while generating the list\n",
    "#to get only even numbers\n",
    "mylist=[i for i in range(0,15) if i%2==0]"
   ]
  },
  {
   "cell_type": "code",
   "execution_count": 18,
   "id": "0141de31-cde0-4b60-82b9-ffea30701515",
   "metadata": {},
   "outputs": [
    {
     "data": {
      "text/plain": [
       "[0, 2, 4, 6, 8, 10, 12, 14]"
      ]
     },
     "execution_count": 18,
     "metadata": {},
     "output_type": "execute_result"
    }
   ],
   "source": [
    "mylist"
   ]
  },
  {
   "cell_type": "code",
   "execution_count": 20,
   "id": "c563ad53-a94f-4088-b7e4-68a71c235caf",
   "metadata": {},
   "outputs": [],
   "source": [
    "#to get only even numbers\n",
    "mylist=[i for i in range(0,15) if i%2==1]"
   ]
  },
  {
   "cell_type": "code",
   "execution_count": 21,
   "id": "81cbbb19-862c-4917-a485-c097a7adb82c",
   "metadata": {},
   "outputs": [
    {
     "data": {
      "text/plain": [
       "[1, 3, 5, 7, 9, 11, 13]"
      ]
     },
     "execution_count": 21,
     "metadata": {},
     "output_type": "execute_result"
    }
   ],
   "source": [
    "mylist"
   ]
  },
  {
   "cell_type": "code",
   "execution_count": 25,
   "id": "5cdcf21a-e14f-4aae-9932-250a99caf9df",
   "metadata": {},
   "outputs": [],
   "source": [
    "celcius=[0,15,12,85]\n",
    "fahrenheit=[ ((9/5)*temp+32) for temp in celcius]"
   ]
  },
  {
   "cell_type": "code",
   "execution_count": 26,
   "id": "87a0868e-367a-4b88-8dec-514dbc87a555",
   "metadata": {},
   "outputs": [
    {
     "data": {
      "text/plain": [
       "[32.0, 59.0, 53.6, 185.0]"
      ]
     },
     "execution_count": 26,
     "metadata": {},
     "output_type": "execute_result"
    }
   ],
   "source": [
    "fahrenheit"
   ]
  },
  {
   "cell_type": "code",
   "execution_count": 28,
   "id": "e5457930-09c4-48a1-9f45-5f2c53baf15a",
   "metadata": {},
   "outputs": [],
   "source": [
    "#Another way\n",
    "fahrenheit=[]\n",
    "for temp in celcius:\n",
    "    fahrenheit.append(((9/5)*temp+32))"
   ]
  },
  {
   "cell_type": "code",
   "execution_count": 29,
   "id": "ee7f7a2a-be1c-43e8-bb6a-87a74b8edc39",
   "metadata": {},
   "outputs": [
    {
     "data": {
      "text/plain": [
       "[32.0, 59.0, 53.6, 185.0]"
      ]
     },
     "execution_count": 29,
     "metadata": {},
     "output_type": "execute_result"
    }
   ],
   "source": [
    "fahrenheit"
   ]
  },
  {
   "cell_type": "code",
   "execution_count": 31,
   "id": "68eded5e-afb5-4e6d-af95-808a6f53c4d5",
   "metadata": {},
   "outputs": [],
   "source": [
    "#if and else inside in the LIST comprehension\n",
    "results=[x if x%2==0 else 'ODD' for  x in range(0,11)]\n",
    "\n",
    "#not widely used and can be confusing at times"
   ]
  },
  {
   "cell_type": "code",
   "execution_count": 32,
   "id": "b3e2a275-11a8-4ad2-8e13-8ed55754b4be",
   "metadata": {},
   "outputs": [
    {
     "data": {
      "text/plain": [
       "[0, 'ODD', 2, 'ODD', 4, 'ODD', 6, 'ODD', 8, 'ODD', 10]"
      ]
     },
     "execution_count": 32,
     "metadata": {},
     "output_type": "execute_result"
    }
   ],
   "source": [
    "results"
   ]
  },
  {
   "cell_type": "markdown",
   "id": "92304b07-19a6-4dc1-bf77-135a1ed8ef25",
   "metadata": {},
   "source": [
    "## NESTED LOOP"
   ]
  },
  {
   "cell_type": "code",
   "execution_count": 33,
   "id": "8af210df-d29f-4eac-b2d3-221fdacacd61",
   "metadata": {},
   "outputs": [],
   "source": [
    "mylist=[]\n",
    "for x in [2,4,6]:\n",
    "    for y in [100,200,300]:\n",
    "        mylist.append(x*y)"
   ]
  },
  {
   "cell_type": "code",
   "execution_count": 34,
   "id": "6ebb3ec1-b8a3-47bb-8d5e-1302178fb2a1",
   "metadata": {},
   "outputs": [
    {
     "data": {
      "text/plain": [
       "[200, 400, 600, 400, 800, 1200, 600, 1200, 1800]"
      ]
     },
     "execution_count": 34,
     "metadata": {},
     "output_type": "execute_result"
    }
   ],
   "source": [
    "mylist"
   ]
  },
  {
   "cell_type": "code",
   "execution_count": 35,
   "id": "386333ea-2446-4fc4-bd8f-e17aee33e2f3",
   "metadata": {},
   "outputs": [],
   "source": [
    "#same with list comprehension\n",
    "mylist=[x*y for x in [2,4,6] for y in [100,200,300]]"
   ]
  },
  {
   "cell_type": "code",
   "execution_count": 36,
   "id": "6bcd7c1d-c809-466c-aa41-fc2f5701cf11",
   "metadata": {},
   "outputs": [
    {
     "data": {
      "text/plain": [
       "[200, 400, 600, 400, 800, 1200, 600, 1200, 1800]"
      ]
     },
     "execution_count": 36,
     "metadata": {},
     "output_type": "execute_result"
    }
   ],
   "source": [
    "mylist"
   ]
  },
  {
   "cell_type": "code",
   "execution_count": null,
   "id": "139e60f9-3d5b-4b1d-a7ec-0e998ad317ed",
   "metadata": {},
   "outputs": [],
   "source": []
  }
 ],
 "metadata": {
  "kernelspec": {
   "display_name": "Python 3 (ipykernel)",
   "language": "python",
   "name": "python3"
  },
  "language_info": {
   "codemirror_mode": {
    "name": "ipython",
    "version": 3
   },
   "file_extension": ".py",
   "mimetype": "text/x-python",
   "name": "python",
   "nbconvert_exporter": "python",
   "pygments_lexer": "ipython3",
   "version": "3.9.13"
  }
 },
 "nbformat": 4,
 "nbformat_minor": 5
}

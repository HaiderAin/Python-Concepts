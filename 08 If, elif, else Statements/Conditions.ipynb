{
 "cells": [
  {
   "cell_type": "markdown",
   "id": "23bff655-85dd-4a7e-ba22-61e19e7813dd",
   "metadata": {},
   "source": [
    "## Control statements\n",
    "Key words:\n",
    "IF , \n",
    "ELSE, \n",
    "ELIF"
   ]
  },
  {
   "cell_type": "markdown",
   "id": "24dc1c5a-0253-40ad-b8d3-20a043ee3d73",
   "metadata": {},
   "source": [
    "If some_condition:\n",
    "    #execute the given code\n",
    "elif some_condition:\n",
    "    #execute something different\n",
    "else:\n",
    "    #do something else"
   ]
  },
  {
   "cell_type": "code",
   "execution_count": 2,
   "id": "36e6601d-8cbb-4c70-897f-b173485117e8",
   "metadata": {},
   "outputs": [
    {
     "name": "stdout",
     "output_type": "stream",
     "text": [
      "It is true!!\n"
     ]
    }
   ],
   "source": [
    "if True:\n",
    "    print('It is true!!')"
   ]
  },
  {
   "cell_type": "code",
   "execution_count": 4,
   "id": "a9c905d5-4f73-4d31-9aa2-3d0bf08da478",
   "metadata": {},
   "outputs": [
    {
     "name": "stdout",
     "output_type": "stream",
     "text": [
      "Yes\n"
     ]
    }
   ],
   "source": [
    "#only IF condition\n",
    "reached=True\n",
    "if reached:\n",
    "    print('Yes')"
   ]
  },
  {
   "cell_type": "code",
   "execution_count": 5,
   "id": "d191b056-ff26-439b-9688-90de08d6a6c4",
   "metadata": {},
   "outputs": [
    {
     "name": "stdout",
     "output_type": "stream",
     "text": [
      "Yes\n"
     ]
    }
   ],
   "source": [
    "#IF, ELSE\n",
    "reached=True\n",
    "if reached:\n",
    "    print('Yes')\n",
    "else:\n",
    "    print('No')"
   ]
  },
  {
   "cell_type": "code",
   "execution_count": 9,
   "id": "8dac134c-ca70-443e-bc52-8cb5278cef12",
   "metadata": {},
   "outputs": [
    {
     "name": "stdout",
     "output_type": "stream",
     "text": [
      "No\n"
     ]
    }
   ],
   "source": [
    "#IF , ELSE\n",
    "reached=False\n",
    "if reached:\n",
    "    print('Yes')\n",
    "else:\n",
    "    print('No')"
   ]
  },
  {
   "cell_type": "code",
   "execution_count": 16,
   "id": "5d7da6f2-e809-4269-a8d4-26faea18c44f",
   "metadata": {},
   "outputs": [
    {
     "name": "stdin",
     "output_type": "stream",
     "text": [
      "Enter your Destination :  hello\n"
     ]
    },
    {
     "name": "stdout",
     "output_type": "stream",
     "text": [
      "Wrong destination selected, Please Enter the correct address\n"
     ]
    }
   ],
   "source": [
    "#IF, ELIF, ELSE\n",
    "destination= input('Enter your Destination : ')\n",
    "if destination =='college':\n",
    "    print('You reached to college')\n",
    "elif destination =='hospital':\n",
    "    print('This is a hospital')\n",
    "elif destination =='coaching centre':\n",
    "    print('You reached to the coaching Centre')\n",
    "else:\n",
    "    print(\"Wrong destination selected, Please Enter the correct address\")"
   ]
  },
  {
   "cell_type": "code",
   "execution_count": null,
   "id": "eef34c30-2d8e-464c-a9a7-8391446b775c",
   "metadata": {},
   "outputs": [],
   "source": []
  }
 ],
 "metadata": {
  "kernelspec": {
   "display_name": "Python 3 (ipykernel)",
   "language": "python",
   "name": "python3"
  },
  "language_info": {
   "codemirror_mode": {
    "name": "ipython",
    "version": 3
   },
   "file_extension": ".py",
   "mimetype": "text/x-python",
   "name": "python",
   "nbconvert_exporter": "python",
   "pygments_lexer": "ipython3",
   "version": "3.9.13"
  }
 },
 "nbformat": 4,
 "nbformat_minor": 5
}

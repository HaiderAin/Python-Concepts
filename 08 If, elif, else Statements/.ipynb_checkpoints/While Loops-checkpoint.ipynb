{
 "cells": [
  {
   "cell_type": "raw",
   "id": "0afde47e-6399-4a94-9a36-1f8c06065725",
   "metadata": {},
   "source": [
    "/** Keeps on executing a code WHILE some conditions remain True\n",
    "For example, while the Bus is not full, keep selling the tickets\n",
    "OR While I am hungry, keep serving me food\n",
    "\n",
    "SYNTAX for WHILE \n",
    "while some_boolean_condition:\n",
    "        #execution_something\n",
    "        \n",
    "Combining WHILE with ELSE:\n",
    "\n",
    "while some_boolean_condition:\n",
    "    #execution_something\n",
    "\n",
    "else:\n",
    "    #execute_something_else **/"
   ]
  },
  {
   "cell_type": "code",
   "execution_count": 4,
   "id": "19bfb795-17e0-48f3-9dd5-7b34a11f568c",
   "metadata": {},
   "outputs": [
    {
     "name": "stdout",
     "output_type": "stream",
     "text": [
      "The current value of x is 0\n",
      "The current value of x is 1\n",
      "The current value of x is 2\n",
      "The current value of x is 3\n",
      "The current value of x is 4\n"
     ]
    }
   ],
   "source": [
    "x=0\n",
    "while x < 5:\n",
    "    print(f'The current value of x is {x}')\n",
    "    x=x+1  #if we remove this line the while loop is always True and the code will run in \n",
    "    #infinite loop"
   ]
  },
  {
   "cell_type": "code",
   "execution_count": 5,
   "id": "8d225576-089d-453c-9eb4-4c33dd693993",
   "metadata": {},
   "outputs": [
    {
     "name": "stdout",
     "output_type": "stream",
     "text": [
      "The current value of x is 0\n",
      "The current value of x is 1\n",
      "The current value of x is 2\n",
      "The current value of x is 3\n",
      "The current value of x is 4\n",
      "X is no longer less than 5\n"
     ]
    }
   ],
   "source": [
    "x=0\n",
    "while x < 5:\n",
    "    print(f'The current value of x is {x}')\n",
    "    x=x+1 \n",
    "else:\n",
    "    print(\"X is no longer less than 5\")"
   ]
  },
  {
   "cell_type": "markdown",
   "id": "cdcefc06-0ec5-456d-a1a4-2f79321606f7",
   "metadata": {},
   "source": [
    "## Break, Continue and Pass Keywords"
   ]
  },
  {
   "cell_type": "raw",
   "id": "e44cea00-39c2-4e44-b00d-294a592555ab",
   "metadata": {},
   "source": [
    "We can use break, continue, and pass statements in our loops to add additional functionality for varions cases. The three statements are defined by:\n",
    "\n",
    "break: breaks out of the current closest enclosing loop.\n",
    "\n",
    "continue: goes to the top of the closest enclosing loop.\n",
    "\n",
    "pass:Does nothing at all."
   ]
  },
  {
   "cell_type": "code",
   "execution_count": 7,
   "id": "dbf9ff19-de08-445a-92d7-942a9e9e925b",
   "metadata": {},
   "outputs": [
    {
     "ename": "IndentationError",
     "evalue": "expected an indented block (2362504569.py, line 6)",
     "output_type": "error",
     "traceback": [
      "\u001b[1;36m  Cell \u001b[1;32mIn[7], line 6\u001b[1;36m\u001b[0m\n\u001b[1;33m    \u001b[0m\n\u001b[1;37m    ^\u001b[0m\n\u001b[1;31mIndentationError\u001b[0m\u001b[1;31m:\u001b[0m expected an indented block\n"
     ]
    }
   ],
   "source": [
    "#example for Pass key word\n",
    "#programmers use it to avoid the error in their code\n",
    "x=[1,2,3]\n",
    "for i in x:\n",
    "    #nothing here\n",
    "    "
   ]
  },
  {
   "cell_type": "code",
   "execution_count": 8,
   "id": "d883bbd2-4486-400a-adca-50a82c86eb3a",
   "metadata": {},
   "outputs": [],
   "source": [
    "#no error\n",
    "x=[1,2,3]\n",
    "for i in x:\n",
    "    pass\n",
    "    "
   ]
  },
  {
   "cell_type": "code",
   "execution_count": 9,
   "id": "9afb05cd-734d-4362-a0d3-ec8f775996e9",
   "metadata": {},
   "outputs": [
    {
     "name": "stdout",
     "output_type": "stream",
     "text": [
      "end of the code\n"
     ]
    }
   ],
   "source": [
    "x=[1,2,3]\n",
    "for i in x:\n",
    "    pass\n",
    "print('end of the code')"
   ]
  },
  {
   "cell_type": "code",
   "execution_count": 15,
   "id": "ce42f971-d390-4b7e-8c57-14b887ac3467",
   "metadata": {},
   "outputs": [
    {
     "name": "stdout",
     "output_type": "stream",
     "text": [
      "H\n",
      "i\n",
      "d\n",
      "e\n",
      "r\n"
     ]
    }
   ],
   "source": [
    "#Continue key word example\n",
    "name=\"Haider\"\n",
    "for i in name:\n",
    "    if i == 'a': #here we are saying if the i==a then continue and go back to the loop\n",
    "       continue\n",
    "    print(i)"
   ]
  },
  {
   "cell_type": "code",
   "execution_count": 17,
   "id": "9bee81ab-bbfb-45ae-88fa-ecb558f36665",
   "metadata": {},
   "outputs": [
    {
     "name": "stdout",
     "output_type": "stream",
     "text": [
      "H\n"
     ]
    }
   ],
   "source": [
    "#break keyword example\n",
    "name=\"Haider\"\n",
    "for i in name:\n",
    "    if i == 'a': #here we are saying if the i==a then break the code and no longer execute the code\n",
    "       break\n",
    "    print(i)"
   ]
  },
  {
   "cell_type": "code",
   "execution_count": null,
   "id": "c0cd08e7-2d13-41f2-92da-b52b35734f48",
   "metadata": {},
   "outputs": [],
   "source": []
  }
 ],
 "metadata": {
  "kernelspec": {
   "display_name": "Python 3 (ipykernel)",
   "language": "python",
   "name": "python3"
  },
  "language_info": {
   "codemirror_mode": {
    "name": "ipython",
    "version": 3
   },
   "file_extension": ".py",
   "mimetype": "text/x-python",
   "name": "python",
   "nbconvert_exporter": "python",
   "pygments_lexer": "ipython3",
   "version": "3.9.13"
  }
 },
 "nbformat": 4,
 "nbformat_minor": 5
}

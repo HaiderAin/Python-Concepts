{
 "cells": [
  {
   "cell_type": "markdown",
   "id": "2611c1ef-dd9b-4e7b-8aac-928c94f46179",
   "metadata": {},
   "source": [
    "## Range Operator"
   ]
  },
  {
   "cell_type": "code",
   "execution_count": 1,
   "id": "9ac7ff57-68d6-4b50-8b22-8a2e4724d32e",
   "metadata": {},
   "outputs": [
    {
     "name": "stdout",
     "output_type": "stream",
     "text": [
      "0\n",
      "1\n",
      "2\n",
      "3\n",
      "4\n",
      "5\n",
      "6\n",
      "7\n",
      "8\n",
      "9\n"
     ]
    }
   ],
   "source": [
    "#creating a list of numbers\n",
    "for i in range (10):\n",
    "    print(i)\n",
    "    "
   ]
  },
  {
   "cell_type": "code",
   "execution_count": 2,
   "id": "f2b040a1-6aaa-4f91-8836-606301593a8c",
   "metadata": {},
   "outputs": [
    {
     "name": "stdout",
     "output_type": "stream",
     "text": [
      "0\n",
      "2\n",
      "4\n",
      "6\n",
      "8\n"
     ]
    }
   ],
   "source": [
    "#creating a list of numbers with step number\n",
    "#create a list of even numbers from 0-10\n",
    "#2 is the step number\n",
    "for i in range (0,10,2):\n",
    "    print(i)"
   ]
  },
  {
   "cell_type": "code",
   "execution_count": 3,
   "id": "a3a0e922-6d2e-4a4c-ae76-67ba34f6be84",
   "metadata": {},
   "outputs": [
    {
     "name": "stdout",
     "output_type": "stream",
     "text": [
      "0\n",
      "3\n",
      "6\n",
      "9\n"
     ]
    }
   ],
   "source": [
    "for i in range (0,10,3):\n",
    "    print(i)"
   ]
  },
  {
   "cell_type": "code",
   "execution_count": 4,
   "id": "e8fdba47-bad3-445c-a13a-4ce1d76c6cf6",
   "metadata": {},
   "outputs": [
    {
     "name": "stdout",
     "output_type": "stream",
     "text": [
      "0\n",
      "5\n"
     ]
    }
   ],
   "source": [
    "for i in range (0,10,5):\n",
    "    print(i)"
   ]
  },
  {
   "cell_type": "code",
   "execution_count": 5,
   "id": "079ab3e2-e451-4a37-aacf-74f067538da4",
   "metadata": {},
   "outputs": [
    {
     "data": {
      "text/plain": [
       "[0, 2, 4, 6, 8]"
      ]
     },
     "execution_count": 5,
     "metadata": {},
     "output_type": "execute_result"
    }
   ],
   "source": [
    "#using range operators for creating a list\n",
    "list(range(0,10,2))"
   ]
  },
  {
   "cell_type": "markdown",
   "id": "3dab17aa-6b99-4478-a4c9-872922f4eed4",
   "metadata": {},
   "source": [
    "## Enumerator operators\n"
   ]
  },
  {
   "cell_type": "raw",
   "id": "f1e33b70-550a-4d28-aba0-fa73d2e96a67",
   "metadata": {},
   "source": [
    "If you want find the indexes of each character/item of the list/strings"
   ]
  },
  {
   "cell_type": "code",
   "execution_count": 10,
   "id": "a2bc03f8-2047-4b18-8461-1c4c8411e982",
   "metadata": {},
   "outputs": [
    {
     "name": "stdout",
     "output_type": "stream",
     "text": [
      "At index 0 the letter is H\n",
      "At index 1 the letter is a\n",
      "At index 2 the letter is i\n",
      "At index 3 the letter is d\n",
      "At index 4 the letter is e\n",
      "At index 5 the letter is r\n"
     ]
    }
   ],
   "source": [
    "#finding indexes of the items without using the enumerators\n",
    "index_count=0\n",
    "for letter in 'Haider':\n",
    "    print('At index {} the letter is {}'.format(index_count,letter))\n",
    "    index_count +=1"
   ]
  },
  {
   "cell_type": "code",
   "execution_count": 12,
   "id": "152d582e-5a0d-4618-a291-c6665232e52e",
   "metadata": {},
   "outputs": [
    {
     "name": "stdout",
     "output_type": "stream",
     "text": [
      "(0, 'H')\n",
      "(1, 'a')\n",
      "(2, 'i')\n",
      "(3, 'd')\n",
      "(4, 'e')\n",
      "(5, 'r')\n"
     ]
    }
   ],
   "source": [
    "#another way to find out using enumerators\n",
    "word='Haider'\n",
    "for item in enumerate(word):\n",
    "    print(item)"
   ]
  },
  {
   "cell_type": "code",
   "execution_count": 13,
   "id": "786bad11-7d94-49c0-98a6-b31f2f075551",
   "metadata": {},
   "outputs": [
    {
     "name": "stdout",
     "output_type": "stream",
     "text": [
      "(0, 'H')\n",
      "(1, 'a')\n",
      "(2, 'i')\n",
      "(3, 'd')\n",
      "(4, 'e')\n",
      "(5, 'r')\n"
     ]
    }
   ],
   "source": [
    "#another way to find out using enumerators\n",
    "for item in enumerate('Haider'):\n",
    "    print(item)"
   ]
  },
  {
   "cell_type": "code",
   "execution_count": 14,
   "id": "62ec919f-3c2d-4935-92b0-ea01d917c547",
   "metadata": {},
   "outputs": [
    {
     "name": "stdout",
     "output_type": "stream",
     "text": [
      "0\n",
      "H\n",
      "\n",
      "\n",
      "1\n",
      "a\n",
      "\n",
      "\n",
      "2\n",
      "i\n",
      "\n",
      "\n",
      "3\n",
      "d\n",
      "\n",
      "\n",
      "4\n",
      "e\n",
      "\n",
      "\n",
      "5\n",
      "r\n",
      "\n",
      "\n"
     ]
    }
   ],
   "source": [
    "for index,letter in enumerate('Haider'):\n",
    "    print(index)\n",
    "    print(letter)\n",
    "    print('\\n')"
   ]
  },
  {
   "cell_type": "markdown",
   "id": "0f6161d6-0a30-4f74-85f3-7166efcc4560",
   "metadata": {},
   "source": [
    "## ZIP Function"
   ]
  },
  {
   "cell_type": "raw",
   "id": "85c05bc2-a817-4ff2-bf53-538d3f059fa6",
   "metadata": {},
   "source": [
    "Zip function joins two or more lists into the tuples"
   ]
  },
  {
   "cell_type": "code",
   "execution_count": 17,
   "id": "719cdf6b-c75f-46ca-9b44-79a5001b301b",
   "metadata": {},
   "outputs": [
    {
     "name": "stdout",
     "output_type": "stream",
     "text": [
      "(1, 'a')\n",
      "(2, 'b')\n",
      "(3, 'c')\n"
     ]
    }
   ],
   "source": [
    "mylist1=[1,2,3]\n",
    "mylist2=['a','b','c']\n",
    "for i in zip(mylist1,mylist2):\n",
    "    print(i)"
   ]
  },
  {
   "cell_type": "code",
   "execution_count": 18,
   "id": "deb3a6d7-e2e7-4339-b33e-5342e8470f82",
   "metadata": {},
   "outputs": [
    {
     "name": "stdout",
     "output_type": "stream",
     "text": [
      "(1, 'a', 200)\n",
      "(2, 'b', 400)\n",
      "(3, 'c', 600)\n"
     ]
    }
   ],
   "source": [
    "mylist1=[1,2,3]\n",
    "mylist2=['a','b','c']\n",
    "mylisty3=[200,400,600]\n",
    "for i in zip(mylist1,mylist2, mylisty3):\n",
    "    print(i)"
   ]
  },
  {
   "cell_type": "code",
   "execution_count": 19,
   "id": "ec764c86-6e9d-4270-813f-9d90d69a8aba",
   "metadata": {},
   "outputs": [
    {
     "name": "stdout",
     "output_type": "stream",
     "text": [
      "(1, 'a', 200)\n",
      "(2, 'b', 400)\n",
      "(3, 'c', 600)\n"
     ]
    }
   ],
   "source": [
    "#what if the number of items are un-even\n",
    "#the zip will work to the list having lesat number of items\n",
    "mylist1=[1,2,3]\n",
    "mylist2=['a','b','c','d']\n",
    "mylisty3=[200,400,600,800,900]\n",
    "for i in zip(mylist1,mylist2, mylisty3):\n",
    "    print(i)"
   ]
  },
  {
   "cell_type": "markdown",
   "id": "853d1b42-67f7-45ac-9ad2-d9b8e18e628e",
   "metadata": {},
   "source": [
    "## \"IN\" keyword to find item in the list"
   ]
  },
  {
   "cell_type": "code",
   "execution_count": 20,
   "id": "cdf904d9-f55d-417e-adca-8e2815d3a50d",
   "metadata": {},
   "outputs": [
    {
     "data": {
      "text/plain": [
       "False"
      ]
     },
     "execution_count": 20,
     "metadata": {},
     "output_type": "execute_result"
    }
   ],
   "source": [
    "'x' in [1,2,3] #if not available"
   ]
  },
  {
   "cell_type": "code",
   "execution_count": 23,
   "id": "d9dc9626-bf51-47a7-95d2-290d87a9d232",
   "metadata": {},
   "outputs": [
    {
     "data": {
      "text/plain": [
       "True"
      ]
     },
     "execution_count": 23,
     "metadata": {},
     "output_type": "execute_result"
    }
   ],
   "source": [
    "'x' in [1,2,3,'x'] #True if found"
   ]
  },
  {
   "cell_type": "code",
   "execution_count": 25,
   "id": "a55fc1d0-ed9a-480a-aa3a-4b9775a65919",
   "metadata": {},
   "outputs": [
    {
     "data": {
      "text/plain": [
       "True"
      ]
     },
     "execution_count": 25,
     "metadata": {},
     "output_type": "execute_result"
    }
   ],
   "source": [
    "'mykey' in {'mykey':'Haider'}"
   ]
  },
  {
   "cell_type": "code",
   "execution_count": 26,
   "id": "aa641ff5-035b-4d91-8202-b2d03516b3c8",
   "metadata": {},
   "outputs": [
    {
     "data": {
      "text/plain": [
       "True"
      ]
     },
     "execution_count": 26,
     "metadata": {},
     "output_type": "execute_result"
    }
   ],
   "source": [
    "d= {'mykey':'Haider'}\n",
    "'Haider' in d.values()"
   ]
  },
  {
   "cell_type": "code",
   "execution_count": 30,
   "id": "ac847ea9-c059-4e72-b4d4-6db9937ef031",
   "metadata": {},
   "outputs": [
    {
     "data": {
      "text/plain": [
       "True"
      ]
     },
     "execution_count": 30,
     "metadata": {},
     "output_type": "execute_result"
    }
   ],
   "source": [
    "d= {'mykey':'Haider'}\n",
    "'mykey' in d.keys()"
   ]
  },
  {
   "cell_type": "markdown",
   "id": "e370c8f8-cc77-47b1-872f-e40352950325",
   "metadata": {},
   "source": [
    "## MIN and MAX Functions"
   ]
  },
  {
   "cell_type": "code",
   "execution_count": 31,
   "id": "efbc7450-926b-4b1a-821b-900d9382fd51",
   "metadata": {},
   "outputs": [],
   "source": [
    "mylist4=[200,400,600,800,900]\n"
   ]
  },
  {
   "cell_type": "code",
   "execution_count": 34,
   "id": "25d50efb-b4c7-4553-ab28-34671ef3d0f9",
   "metadata": {},
   "outputs": [
    {
     "data": {
      "text/plain": [
       "200"
      ]
     },
     "execution_count": 34,
     "metadata": {},
     "output_type": "execute_result"
    }
   ],
   "source": [
    "min(mylist4)"
   ]
  },
  {
   "cell_type": "code",
   "execution_count": 36,
   "id": "9dae855d-c2e3-426e-95b9-78489e75e1e1",
   "metadata": {},
   "outputs": [
    {
     "data": {
      "text/plain": [
       "900"
      ]
     },
     "execution_count": 36,
     "metadata": {},
     "output_type": "execute_result"
    }
   ],
   "source": [
    "max(mylist4)"
   ]
  },
  {
   "cell_type": "markdown",
   "id": "e6ef7533-2a54-4c9e-befc-492aee594ca5",
   "metadata": {},
   "source": [
    "## random Library\n"
   ]
  },
  {
   "cell_type": "raw",
   "id": "d8568612-aee8-4678-87ea-c1bcec1ca7a9",
   "metadata": {},
   "source": [
    "It is a built in library with so many methods inside it"
   ]
  },
  {
   "cell_type": "code",
   "execution_count": 37,
   "id": "b6fcc4ef-70ea-4f7f-b7b1-79f515ca0396",
   "metadata": {},
   "outputs": [],
   "source": [
    "from random import shuffle"
   ]
  },
  {
   "cell_type": "code",
   "execution_count": 38,
   "id": "549ecea6-3b36-4ce2-8d88-01cc82d23a02",
   "metadata": {},
   "outputs": [],
   "source": [
    "mylist4=[200,400,600,800,900]"
   ]
  },
  {
   "cell_type": "code",
   "execution_count": 39,
   "id": "79888af5-f610-42cc-b896-3a0a3d81a04b",
   "metadata": {},
   "outputs": [],
   "source": [
    "shuffle(mylist4)"
   ]
  },
  {
   "cell_type": "code",
   "execution_count": 40,
   "id": "1d3f11b6-216d-446f-b050-0493d93157e7",
   "metadata": {},
   "outputs": [
    {
     "data": {
      "text/plain": [
       "[400, 600, 900, 800, 200]"
      ]
     },
     "execution_count": 40,
     "metadata": {},
     "output_type": "execute_result"
    }
   ],
   "source": [
    "mylist4"
   ]
  },
  {
   "cell_type": "code",
   "execution_count": 41,
   "id": "4c830a31-702a-42b8-a78e-8f627267c8a6",
   "metadata": {},
   "outputs": [],
   "source": [
    "shuffle(mylist4)"
   ]
  },
  {
   "cell_type": "code",
   "execution_count": 42,
   "id": "096d8651-8d7e-4f80-86f1-3f81f6189aa3",
   "metadata": {},
   "outputs": [
    {
     "data": {
      "text/plain": [
       "[800, 200, 600, 400, 900]"
      ]
     },
     "execution_count": 42,
     "metadata": {},
     "output_type": "execute_result"
    }
   ],
   "source": [
    "mylist4"
   ]
  },
  {
   "cell_type": "code",
   "execution_count": 43,
   "id": "b2c719cb-5761-431e-9201-3cd3ace18bd1",
   "metadata": {},
   "outputs": [],
   "source": [
    "shuffle(mylist4)"
   ]
  },
  {
   "cell_type": "code",
   "execution_count": 44,
   "id": "df94c922-697f-4b0f-9ec5-73a9f73e63d4",
   "metadata": {},
   "outputs": [
    {
     "data": {
      "text/plain": [
       "[400, 900, 600, 200, 800]"
      ]
     },
     "execution_count": 44,
     "metadata": {},
     "output_type": "execute_result"
    }
   ],
   "source": [
    "mylist4"
   ]
  },
  {
   "cell_type": "code",
   "execution_count": 45,
   "id": "b18bfa93-6a93-4a09-b00c-be751809fec1",
   "metadata": {},
   "outputs": [],
   "source": [
    "#importing randint from random\n",
    "from random import randint"
   ]
  },
  {
   "cell_type": "code",
   "execution_count": 46,
   "id": "eb27b69e-916e-4737-850d-6a72c27cb8d5",
   "metadata": {},
   "outputs": [
    {
     "data": {
      "text/plain": [
       "84"
      ]
     },
     "execution_count": 46,
     "metadata": {},
     "output_type": "execute_result"
    }
   ],
   "source": [
    "randint(0,100)"
   ]
  },
  {
   "cell_type": "code",
   "execution_count": 47,
   "id": "92197b9e-a59a-4814-88d9-59a185cf15f3",
   "metadata": {},
   "outputs": [
    {
     "data": {
      "text/plain": [
       "80"
      ]
     },
     "execution_count": 47,
     "metadata": {},
     "output_type": "execute_result"
    }
   ],
   "source": [
    "randint(0,100)"
   ]
  },
  {
   "cell_type": "markdown",
   "id": "5e746f86-993a-4b77-9b0c-476e9a99dd1b",
   "metadata": {},
   "source": [
    "## USER INPUT using input() function"
   ]
  },
  {
   "cell_type": "code",
   "execution_count": null,
   "id": "86fa193a-a46b-456d-9bc7-b286023d06a7",
   "metadata": {},
   "outputs": [],
   "source": [
    "#Always takes the input as string and result is also string ,you can change the ouput based on requirement"
   ]
  },
  {
   "cell_type": "code",
   "execution_count": 48,
   "id": "3a89966d-ab30-4cc0-818e-2454ea283fd8",
   "metadata": {},
   "outputs": [
    {
     "name": "stdin",
     "output_type": "stream",
     "text": [
      "what is your name? Haider\n"
     ]
    }
   ],
   "source": [
    "result=input('what is your name?')"
   ]
  },
  {
   "cell_type": "code",
   "execution_count": 49,
   "id": "1a1fa491-3bea-45a6-a342-c89423f43b19",
   "metadata": {},
   "outputs": [
    {
     "name": "stdin",
     "output_type": "stream",
     "text": [
      "what is your favourite number? 23\n"
     ]
    }
   ],
   "source": [
    "result=input('what is your favourite number?')"
   ]
  },
  {
   "cell_type": "code",
   "execution_count": 50,
   "id": "75bf8b30-46c0-49ae-bd65-abe7e35e4305",
   "metadata": {},
   "outputs": [
    {
     "data": {
      "text/plain": [
       "str"
      ]
     },
     "execution_count": 50,
     "metadata": {},
     "output_type": "execute_result"
    }
   ],
   "source": [
    "type(result)"
   ]
  },
  {
   "cell_type": "code",
   "execution_count": 51,
   "id": "dea3a7df-c773-49e1-8b46-f8dc89e23f3f",
   "metadata": {},
   "outputs": [
    {
     "name": "stdin",
     "output_type": "stream",
     "text": [
      "what is your favourite number? 25\n"
     ]
    }
   ],
   "source": [
    "result=int(input('what is your favourite number?'))"
   ]
  },
  {
   "cell_type": "code",
   "execution_count": 52,
   "id": "10301995-043a-4939-9c34-fddbc3a316b3",
   "metadata": {},
   "outputs": [
    {
     "data": {
      "text/plain": [
       "int"
      ]
     },
     "execution_count": 52,
     "metadata": {},
     "output_type": "execute_result"
    }
   ],
   "source": [
    "type(result)"
   ]
  },
  {
   "cell_type": "code",
   "execution_count": null,
   "id": "1932d1c4-a42a-4c6a-87d1-186120665d4d",
   "metadata": {},
   "outputs": [],
   "source": []
  }
 ],
 "metadata": {
  "kernelspec": {
   "display_name": "Python 3 (ipykernel)",
   "language": "python",
   "name": "python3"
  },
  "language_info": {
   "codemirror_mode": {
    "name": "ipython",
    "version": 3
   },
   "file_extension": ".py",
   "mimetype": "text/x-python",
   "name": "python",
   "nbconvert_exporter": "python",
   "pygments_lexer": "ipython3",
   "version": "3.9.13"
  }
 },
 "nbformat": 4,
 "nbformat_minor": 5
}

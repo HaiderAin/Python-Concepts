{
 "cells": [
  {
   "cell_type": "markdown",
   "id": "7a84ae08-534d-4251-bb78-a14a4ffd88eb",
   "metadata": {},
   "source": [
    "The for loops are used to iterated every intem in a object (strings, list etc)\n"
   ]
  },
  {
   "cell_type": "markdown",
   "id": "ac9edbf7-ab7a-4645-b748-fa3fa074f2e6",
   "metadata": {},
   "source": [
    "\"\"\" Sytanx of a for loop\n",
    "my iterable=[1,2,3]\n",
    "for item_name in my_iterable:\n",
    "    print(item_name)\n",
    "\"\"\""
   ]
  },
  {
   "cell_type": "code",
   "execution_count": 2,
   "id": "32f6b1de-48c5-4560-9142-83f7aa517784",
   "metadata": {},
   "outputs": [],
   "source": [
    "list1=[1,2,3,4,5,6,7,8,9,10]"
   ]
  },
  {
   "cell_type": "code",
   "execution_count": 3,
   "id": "0a5044e7-ee88-4350-8258-2f3d6e8a4791",
   "metadata": {},
   "outputs": [
    {
     "data": {
      "text/plain": [
       "[1, 2, 3, 4, 5, 6, 7, 8, 9, 10]"
      ]
     },
     "execution_count": 3,
     "metadata": {},
     "output_type": "execute_result"
    }
   ],
   "source": [
    "list1"
   ]
  },
  {
   "cell_type": "code",
   "execution_count": 4,
   "id": "16bc9fc8-af81-4b67-89bb-8696b3de8b94",
   "metadata": {},
   "outputs": [
    {
     "name": "stdout",
     "output_type": "stream",
     "text": [
      "1\n",
      "2\n",
      "3\n",
      "4\n",
      "5\n",
      "6\n",
      "7\n",
      "8\n",
      "9\n",
      "10\n"
     ]
    }
   ],
   "source": [
    "for number in list1:\n",
    "    print(number)"
   ]
  },
  {
   "cell_type": "code",
   "execution_count": 5,
   "id": "eed5720a-b225-402b-ad43-138c42f73ee3",
   "metadata": {},
   "outputs": [
    {
     "name": "stdout",
     "output_type": "stream",
     "text": [
      "1\n",
      "2\n",
      "3\n",
      "4\n",
      "5\n",
      "6\n",
      "7\n",
      "8\n",
      "9\n",
      "10\n"
     ]
    }
   ],
   "source": [
    "#the variable name can be anything\n",
    "for haider in list1:\n",
    "    print(haider)"
   ]
  },
  {
   "cell_type": "code",
   "execution_count": 6,
   "id": "63d512c9-f301-43af-b108-e539f7386d67",
   "metadata": {},
   "outputs": [
    {
     "name": "stdout",
     "output_type": "stream",
     "text": [
      "1\n",
      "2\n",
      "3\n",
      "4\n",
      "5\n",
      "6\n",
      "7\n",
      "8\n",
      "9\n",
      "10\n"
     ]
    }
   ],
   "source": [
    "#the variable name can be anything\n",
    "for i in list1:\n",
    "    print(i)\n"
   ]
  },
  {
   "cell_type": "code",
   "execution_count": 8,
   "id": "1aa68bac-c559-4a59-8760-e6bec8ae0f5c",
   "metadata": {},
   "outputs": [
    {
     "name": "stdout",
     "output_type": "stream",
     "text": [
      "How are you?\n",
      "How are you?\n",
      "How are you?\n",
      "How are you?\n",
      "How are you?\n",
      "How are you?\n",
      "How are you?\n",
      "How are you?\n",
      "How are you?\n",
      "How are you?\n"
     ]
    }
   ],
   "source": [
    "#You can print anything for each iterate\n",
    "for i in list1:\n",
    "    print(\"How are you?\")\n"
   ]
  },
  {
   "cell_type": "code",
   "execution_count": 9,
   "id": "5c17090a-e5b9-4f67-8911-f0d323a37447",
   "metadata": {},
   "outputs": [
    {
     "name": "stdout",
     "output_type": "stream",
     "text": [
      "2\n",
      "4\n",
      "6\n",
      "8\n",
      "10\n"
     ]
    }
   ],
   "source": [
    "#You can put conditions\n",
    "for i in list1:\n",
    "    if i %2 == 0: #checks the even number\n",
    "        print(i)"
   ]
  },
  {
   "cell_type": "code",
   "execution_count": 13,
   "id": "68cb4834-91c8-43df-b734-aabbf5f31e66",
   "metadata": {},
   "outputs": [
    {
     "name": "stdout",
     "output_type": "stream",
     "text": [
      "Odd number:1\n",
      "2\n",
      "Odd number:3\n",
      "4\n",
      "Odd number:5\n",
      "6\n",
      "Odd number:7\n",
      "8\n",
      "Odd number:9\n",
      "10\n"
     ]
    }
   ],
   "source": [
    "#You can put even with more conditions\n",
    "for i in list1:\n",
    "    if i %2 == 0: #checks the even number\n",
    "        print(i)\n",
    "    else:\n",
    "        print(f'Odd number:{i}')"
   ]
  },
  {
   "cell_type": "code",
   "execution_count": 17,
   "id": "6804cfd5-2221-4064-a0e9-8f4f7cb81082",
   "metadata": {},
   "outputs": [
    {
     "name": "stdout",
     "output_type": "stream",
     "text": [
      "1\n",
      "3\n",
      "6\n",
      "10\n",
      "15\n",
      "21\n",
      "28\n",
      "36\n",
      "45\n",
      "55\n"
     ]
    }
   ],
   "source": [
    "#define a list_sum variable with initial value 0 and for each iterable\n",
    "#add that value and re-assign it to the list_sum\n",
    "#print the each iterated value\n",
    "list_sum=0\n",
    "for i in list1:\n",
    "    list_sum=list_sum + i \n",
    "    print(list_sum)"
   ]
  },
  {
   "cell_type": "code",
   "execution_count": 18,
   "id": "9264b058-fa0a-48b9-8ef1-e861c02fee58",
   "metadata": {},
   "outputs": [
    {
     "name": "stdout",
     "output_type": "stream",
     "text": [
      "55\n"
     ]
    }
   ],
   "source": [
    "#want to print sum of all the numbers?  just put the print statement out of the loop\n",
    "list_sum=0\n",
    "for i in list1:\n",
    "    list_sum=list_sum + i \n",
    "print(list_sum)"
   ]
  },
  {
   "cell_type": "code",
   "execution_count": 21,
   "id": "89d4b33b-4690-4d54-b25d-0390ba0b5233",
   "metadata": {},
   "outputs": [
    {
     "name": "stdout",
     "output_type": "stream",
     "text": [
      "H\n",
      "e\n",
      "l\n",
      "l\n",
      "o\n",
      " \n",
      "W\n",
      "o\n",
      "r\n",
      "l\n",
      "d\n"
     ]
    }
   ],
   "source": [
    "#for loop with strings\n",
    "for i in \"Hello World\":\n",
    "       print(i)"
   ]
  },
  {
   "cell_type": "code",
   "execution_count": 24,
   "id": "75e92213-640a-49c4-9bec-3f87e81385df",
   "metadata": {},
   "outputs": [
    {
     "name": "stdout",
     "output_type": "stream",
     "text": [
      "Cool!\n",
      "Cool!\n",
      "Cool!\n",
      "Cool!\n",
      "Cool!\n",
      "Cool!\n",
      "Cool!\n",
      "Cool!\n",
      "Cool!\n",
      "Cool!\n",
      "Cool!\n"
     ]
    }
   ],
   "source": [
    "#for loop with strings\n",
    "for i in \"Hello World\":\n",
    "       print('Cool!')"
   ]
  },
  {
   "cell_type": "code",
   "execution_count": 25,
   "id": "8ca34981-9618-49b3-b48a-bcf105526027",
   "metadata": {},
   "outputs": [
    {
     "name": "stdout",
     "output_type": "stream",
     "text": [
      "1\n",
      "2\n",
      "3\n"
     ]
    }
   ],
   "source": [
    "#for loop with tuples\n",
    "t1=(1,2,3)\n",
    "for i in t1:\n",
    "    print(i)"
   ]
  },
  {
   "cell_type": "code",
   "execution_count": 26,
   "id": "6d9d6d1f-88a2-4628-93c9-d1401b446bfa",
   "metadata": {},
   "outputs": [
    {
     "name": "stdout",
     "output_type": "stream",
     "text": [
      "(1, 2)\n",
      "(3, 4)\n",
      "(5, 6)\n",
      "(7, 8)\n"
     ]
    }
   ],
   "source": [
    "#Tuples inside the list . There are many built in python function take advantage of this \n",
    "#data structure\n",
    "my_list=[(1,2),(3,4),(5,6),(7,8)]\n",
    "for i in my_list:\n",
    "    print(i)"
   ]
  },
  {
   "cell_type": "code",
   "execution_count": 27,
   "id": "7ad158b8-74bb-4070-8a30-30bb7732e543",
   "metadata": {},
   "outputs": [
    {
     "name": "stdout",
     "output_type": "stream",
     "text": [
      "1 2\n",
      "3 4\n",
      "5 6\n",
      "7 8\n"
     ]
    }
   ],
   "source": [
    "#The below example is called tuple unpacking\n",
    "my_list=[(1,2),(3,4),(5,6),(7,8)]\n",
    "for i,j in my_list:\n",
    "    print(i,j)"
   ]
  },
  {
   "cell_type": "code",
   "execution_count": 28,
   "id": "0340a4dd-1303-4bbe-91a9-4947421e28ff",
   "metadata": {},
   "outputs": [
    {
     "name": "stdout",
     "output_type": "stream",
     "text": [
      "1\n",
      "2\n",
      "3\n",
      "4\n",
      "5\n",
      "6\n",
      "7\n",
      "8\n"
     ]
    }
   ],
   "source": [
    "my_list=[(1,2),(3,4),(5,6),(7,8)]\n",
    "for i,j in my_list:\n",
    "    print(i)\n",
    "    print(j)"
   ]
  },
  {
   "cell_type": "code",
   "execution_count": 30,
   "id": "a50bd087-030f-48ee-8723-2651c62a12d9",
   "metadata": {},
   "outputs": [
    {
     "name": "stdout",
     "output_type": "stream",
     "text": [
      "1\n",
      "2\n",
      "3\n",
      "3\n",
      "4\n",
      "5\n",
      "5\n",
      "6\n",
      "7\n",
      "7\n",
      "8\n",
      "9\n"
     ]
    }
   ],
   "source": [
    "my_list1=[(1,2,3),(3,4,5),(5,6,7),(7,8,9)]\n",
    "for i,j,k in my_list1:\n",
    "    print(i)\n",
    "    print(j)\n",
    "    print(k)"
   ]
  },
  {
   "cell_type": "code",
   "execution_count": 31,
   "id": "5271593f-e628-4563-af31-62b7c44a4f44",
   "metadata": {},
   "outputs": [
    {
     "name": "stdout",
     "output_type": "stream",
     "text": [
      "1\n",
      "3\n",
      "5\n",
      "7\n"
     ]
    }
   ],
   "source": [
    "my_list1=[(1,2,3),(3,4,5),(5,6,7),(7,8,9)]\n",
    "for i,j,k in my_list1:\n",
    "    print(i)\n",
    "    "
   ]
  },
  {
   "cell_type": "code",
   "execution_count": 32,
   "id": "377a0ea7-1c3c-4f19-8b47-4806fd55c57e",
   "metadata": {},
   "outputs": [
    {
     "name": "stdout",
     "output_type": "stream",
     "text": [
      "2\n",
      "4\n",
      "6\n",
      "8\n"
     ]
    }
   ],
   "source": [
    "my_list1=[(1,2,3),(3,4,5),(5,6,7),(7,8,9)]\n",
    "for i,j,k in my_list1:\n",
    "    print(j)"
   ]
  },
  {
   "cell_type": "code",
   "execution_count": 33,
   "id": "42e808f3-c9a3-4d6f-ae29-6bf5d67bf46f",
   "metadata": {},
   "outputs": [
    {
     "name": "stdout",
     "output_type": "stream",
     "text": [
      "3\n",
      "5\n",
      "7\n",
      "9\n"
     ]
    }
   ],
   "source": [
    "my_list1=[(1,2,3),(3,4,5),(5,6,7),(7,8,9)]\n",
    "for i,j,k in my_list1:\n",
    "    print(k)"
   ]
  },
  {
   "cell_type": "code",
   "execution_count": 34,
   "id": "d44bb0e8-fdd6-4ea0-b1ad-91af8b7ccf96",
   "metadata": {},
   "outputs": [
    {
     "name": "stdout",
     "output_type": "stream",
     "text": [
      "k1\n",
      "k2\n",
      "k3\n"
     ]
    }
   ],
   "source": [
    "#Iterating through Dictionaries\n",
    "#it got iterated through the key only\n",
    "d={'k1':1,'k2':2,'k3':3}\n",
    "for i in d:\n",
    "    print(i)"
   ]
  },
  {
   "cell_type": "code",
   "execution_count": 37,
   "id": "2dd28882-cd49-4bde-a37a-7e60e5383ad5",
   "metadata": {},
   "outputs": [
    {
     "name": "stdout",
     "output_type": "stream",
     "text": [
      "('k1', 1)\n",
      "('k2', 2)\n",
      "('k3', 3)\n"
     ]
    }
   ],
   "source": [
    "#to print key and value \n",
    "d={'k1':1,'k2':2,'k3':3}\n",
    "for i in d.items():\n",
    "    print(i)"
   ]
  },
  {
   "cell_type": "code",
   "execution_count": 38,
   "id": "cbf0024d-d0aa-4120-88c7-0e3ed2449efb",
   "metadata": {},
   "outputs": [
    {
     "name": "stdout",
     "output_type": "stream",
     "text": [
      "k1\n",
      "k2\n",
      "k3\n"
     ]
    }
   ],
   "source": [
    "#another value\n",
    "d={'k1':1,'k2':2,'k3':3}\n",
    "for key,value in d.items():\n",
    "    print(key)"
   ]
  },
  {
   "cell_type": "code",
   "execution_count": 39,
   "id": "188a9626-e6e2-42d5-9df6-ba505907c048",
   "metadata": {},
   "outputs": [
    {
     "name": "stdout",
     "output_type": "stream",
     "text": [
      "1\n",
      "2\n",
      "3\n"
     ]
    }
   ],
   "source": [
    "d={'k1':1,'k2':2,'k3':3}\n",
    "for key,value in d.items():\n",
    "    print(value)"
   ]
  },
  {
   "cell_type": "code",
   "execution_count": 40,
   "id": "b86a80a7-27fe-43eb-9bf5-8a7a2e7b9109",
   "metadata": {},
   "outputs": [
    {
     "name": "stdout",
     "output_type": "stream",
     "text": [
      "1\n",
      "2\n",
      "3\n"
     ]
    }
   ],
   "source": [
    "d={'k1':1,'k2':2,'k3':3}\n",
    "for value in d.values():\n",
    "    print(value)"
   ]
  },
  {
   "cell_type": "code",
   "execution_count": null,
   "id": "0cc49d65-de11-49f0-bfe9-b61215ee38d4",
   "metadata": {},
   "outputs": [],
   "source": []
  }
 ],
 "metadata": {
  "kernelspec": {
   "display_name": "Python 3 (ipykernel)",
   "language": "python",
   "name": "python3"
  },
  "language_info": {
   "codemirror_mode": {
    "name": "ipython",
    "version": 3
   },
   "file_extension": ".py",
   "mimetype": "text/x-python",
   "name": "python",
   "nbconvert_exporter": "python",
   "pygments_lexer": "ipython3",
   "version": "3.9.13"
  }
 },
 "nbformat": 4,
 "nbformat_minor": 5
}

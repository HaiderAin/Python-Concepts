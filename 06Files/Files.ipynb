{
 "cells": [
  {
   "cell_type": "markdown",
   "id": "b6e3c218",
   "metadata": {},
   "source": [
    "# FILES"
   ]
  },
  {
   "cell_type": "markdown",
   "id": "685f6991",
   "metadata": {},
   "source": [
    "* how to perform basic input/output of the text files\n",
    "* Other files like pdf, audio, video etc can be also accessed but needs other libraries\n",
    "* in the %%writefile commands where you are creating a file, there should not be any text before that else it will create an error"
   ]
  },
  {
   "cell_type": "code",
   "execution_count": 1,
   "id": "f5b9e2eb",
   "metadata": {},
   "outputs": [
    {
     "name": "stdout",
     "output_type": "stream",
     "text": [
      "Overwriting myfile.txt\n"
     ]
    }
   ],
   "source": [
    "%%writefile myfile.txt\n",
    "Hello, this is the first file\n",
    "I am from India\n"
   ]
  },
  {
   "cell_type": "code",
   "execution_count": 32,
   "id": "60738787",
   "metadata": {},
   "outputs": [],
   "source": [
    "#you can see that the above file is created in the current working directory\n"
   ]
  },
  {
   "cell_type": "code",
   "execution_count": 3,
   "id": "76ac0c52",
   "metadata": {},
   "outputs": [],
   "source": [
    "myfile=open('myfile.txt')"
   ]
  },
  {
   "cell_type": "code",
   "execution_count": 5,
   "id": "05746018",
   "metadata": {},
   "outputs": [
    {
     "ename": "FileNotFoundError",
     "evalue": "[Errno 2] No such file or directory: 'myfile01.txt'",
     "output_type": "error",
     "traceback": [
      "\u001b[1;31m---------------------------------------------------------------------------\u001b[0m",
      "\u001b[1;31mFileNotFoundError\u001b[0m                         Traceback (most recent call last)",
      "\u001b[1;32m<ipython-input-5-e2a4e345110a>\u001b[0m in \u001b[0;36m<module>\u001b[1;34m\u001b[0m\n\u001b[0;32m      1\u001b[0m \u001b[1;31m#to check a file which is not there\u001b[0m\u001b[1;33m\u001b[0m\u001b[1;33m\u001b[0m\u001b[1;33m\u001b[0m\u001b[0m\n\u001b[1;32m----> 2\u001b[1;33m \u001b[0mmyfile\u001b[0m\u001b[1;33m=\u001b[0m\u001b[0mopen\u001b[0m\u001b[1;33m(\u001b[0m\u001b[1;34m'myfile01.txt'\u001b[0m\u001b[1;33m)\u001b[0m\u001b[1;33m\u001b[0m\u001b[1;33m\u001b[0m\u001b[0m\n\u001b[0m",
      "\u001b[1;31mFileNotFoundError\u001b[0m: [Errno 2] No such file or directory: 'myfile01.txt'"
     ]
    }
   ],
   "source": [
    "#to check a file which is not there\n",
    "myfile=open('myfile01.txt')"
   ]
  },
  {
   "cell_type": "code",
   "execution_count": 35,
   "id": "44c3d83c",
   "metadata": {},
   "outputs": [],
   "source": [
    "#the same error is reported if the file locations is supplied incorrectly"
   ]
  },
  {
   "cell_type": "code",
   "execution_count": 6,
   "id": "a3ac2f5d",
   "metadata": {},
   "outputs": [
    {
     "data": {
      "text/plain": [
       "'C:\\\\Users\\\\haide\\\\Python Bootcamp\\\\06Files'"
      ]
     },
     "execution_count": 6,
     "metadata": {},
     "output_type": "execute_result"
    }
   ],
   "source": [
    "pwd"
   ]
  },
  {
   "cell_type": "code",
   "execution_count": 7,
   "id": "93f97e78",
   "metadata": {},
   "outputs": [],
   "source": [
    "myfile=open('myfile.txt')"
   ]
  },
  {
   "cell_type": "code",
   "execution_count": 8,
   "id": "0767a381",
   "metadata": {},
   "outputs": [],
   "source": [
    "#to read the file content\n",
    "myfile=open('myfile.txt')"
   ]
  },
  {
   "cell_type": "code",
   "execution_count": 9,
   "id": "a105d731",
   "metadata": {},
   "outputs": [],
   "source": [
    "#file opens only for once then the cursor is closed\n",
    "#to read it again, use seek function"
   ]
  },
  {
   "cell_type": "code",
   "execution_count": 10,
   "id": "471f5666",
   "metadata": {},
   "outputs": [
    {
     "data": {
      "text/plain": [
       "0"
      ]
     },
     "execution_count": 10,
     "metadata": {},
     "output_type": "execute_result"
    }
   ],
   "source": [
    "myfile.seek(0)"
   ]
  },
  {
   "cell_type": "code",
   "execution_count": 11,
   "id": "68aa6348",
   "metadata": {},
   "outputs": [
    {
     "data": {
      "text/plain": [
       "'Hello, this is the first file\\nI am from India\\n'"
      ]
     },
     "execution_count": 11,
     "metadata": {},
     "output_type": "execute_result"
    }
   ],
   "source": [
    "myfile.read()"
   ]
  },
  {
   "cell_type": "code",
   "execution_count": 12,
   "id": "778bca21",
   "metadata": {},
   "outputs": [
    {
     "data": {
      "text/plain": [
       "''"
      ]
     },
     "execution_count": 12,
     "metadata": {},
     "output_type": "execute_result"
    }
   ],
   "source": [
    "myfile.read()"
   ]
  },
  {
   "cell_type": "code",
   "execution_count": 13,
   "id": "50cf2ef7",
   "metadata": {},
   "outputs": [
    {
     "data": {
      "text/plain": [
       "0"
      ]
     },
     "execution_count": 13,
     "metadata": {},
     "output_type": "execute_result"
    }
   ],
   "source": [
    "myfile.seek(0)"
   ]
  },
  {
   "cell_type": "code",
   "execution_count": 14,
   "id": "dc87c034",
   "metadata": {},
   "outputs": [
    {
     "data": {
      "text/plain": [
       "'Hello, this is the first file\\nI am from India\\n'"
      ]
     },
     "execution_count": 14,
     "metadata": {},
     "output_type": "execute_result"
    }
   ],
   "source": [
    "myfile.read()"
   ]
  },
  {
   "cell_type": "code",
   "execution_count": 15,
   "id": "f05ef5a8",
   "metadata": {},
   "outputs": [
    {
     "data": {
      "text/plain": [
       "['Hello, this is the first file\\n', 'I am from India\\n']"
      ]
     },
     "execution_count": 15,
     "metadata": {},
     "output_type": "execute_result"
    }
   ],
   "source": [
    "#you want to read the files with seperate lines in a lIST\n",
    "myfile.seek(0)\n",
    "myfile.readlines()"
   ]
  },
  {
   "cell_type": "code",
   "execution_count": 16,
   "id": "600cba98",
   "metadata": {},
   "outputs": [],
   "source": [
    "#once you open a files, you must close it if not working esle other \n",
    "#users may get error if they want to do some operation\n",
    "myfile.close()"
   ]
  },
  {
   "cell_type": "markdown",
   "id": "803e4c78",
   "metadata": {},
   "source": [
    "# Opening a file from Different Location"
   ]
  },
  {
   "cell_type": "markdown",
   "id": "537ef7f7",
   "metadata": {},
   "source": [
    "To  open a file from different locations you need to supply the full\n",
    "path. In windows, each directory is separated by double backward slash\n",
    "but in Linux it is single forward slash"
   ]
  },
  {
   "cell_type": "code",
   "execution_count": 47,
   "id": "75ce38a5",
   "metadata": {},
   "outputs": [
    {
     "data": {
      "text/plain": [
       "'C:\\\\Users\\\\haide\\\\Python Bootcamp\\\\06Files'"
      ]
     },
     "execution_count": 47,
     "metadata": {},
     "output_type": "execute_result"
    }
   ],
   "source": [
    "pwd"
   ]
  },
  {
   "cell_type": "code",
   "execution_count": 48,
   "id": "1e8999c2",
   "metadata": {},
   "outputs": [
    {
     "name": "stdout",
     "output_type": "stream",
     "text": [
      " Volume in drive C is Windows\n",
      " Volume Serial Number is 2890-EBDB\n",
      "\n",
      " Directory of C:\\Users\\haide\\Python Bootcamp\\06Files\n",
      "\n",
      "22-02-2025  00:17    <DIR>          .\n",
      "21-02-2025  23:52    <DIR>          ..\n",
      "21-02-2025  23:53    <DIR>          .ipynb_checkpoints\n",
      "22-02-2025  00:17             6,782 Files.ipynb\n",
      "22-02-2025  00:12                48 myfile.txt\n",
      "21-02-2025  23:56                 0 Test_file\n",
      "               3 File(s)          6,830 bytes\n",
      "               3 Dir(s)  59,693,740,032 bytes free\n"
     ]
    }
   ],
   "source": [
    "ls"
   ]
  },
  {
   "cell_type": "code",
   "execution_count": 55,
   "id": "f039f2ae",
   "metadata": {},
   "outputs": [],
   "source": [
    "Test_file=open('C:\\\\Users\\\\haide\\\\Python Bootcamp\\\\06Files\\\\Test_file')"
   ]
  },
  {
   "cell_type": "code",
   "execution_count": 58,
   "id": "43367cbb",
   "metadata": {},
   "outputs": [
    {
     "ename": "AttributeError",
     "evalue": "'_io.TextIOWrapper' object has no attribute 'open'",
     "output_type": "error",
     "traceback": [
      "\u001b[1;31m---------------------------------------------------------------------------\u001b[0m",
      "\u001b[1;31mAttributeError\u001b[0m                            Traceback (most recent call last)",
      "\u001b[1;32m<ipython-input-58-0a928e1da177>\u001b[0m in \u001b[0;36m<module>\u001b[1;34m\u001b[0m\n\u001b[1;32m----> 1\u001b[1;33m \u001b[0mTest_file\u001b[0m\u001b[1;33m.\u001b[0m\u001b[0mopen\u001b[0m\u001b[1;33m(\u001b[0m\u001b[1;33m)\u001b[0m\u001b[1;33m\u001b[0m\u001b[1;33m\u001b[0m\u001b[0m\n\u001b[0m",
      "\u001b[1;31mAttributeError\u001b[0m: '_io.TextIOWrapper' object has no attribute 'open'"
     ]
    }
   ],
   "source": [
    "Test_file.open()"
   ]
  },
  {
   "cell_type": "code",
   "execution_count": 57,
   "id": "e5646ec1",
   "metadata": {},
   "outputs": [
    {
     "ename": "AttributeError",
     "evalue": "'_io.TextIOWrapper' object has no attribute 'open'",
     "output_type": "error",
     "traceback": [
      "\u001b[1;31m---------------------------------------------------------------------------\u001b[0m",
      "\u001b[1;31mAttributeError\u001b[0m                            Traceback (most recent call last)",
      "\u001b[1;32m<ipython-input-57-0a928e1da177>\u001b[0m in \u001b[0;36m<module>\u001b[1;34m\u001b[0m\n\u001b[1;32m----> 1\u001b[1;33m \u001b[0mTest_file\u001b[0m\u001b[1;33m.\u001b[0m\u001b[0mopen\u001b[0m\u001b[1;33m(\u001b[0m\u001b[1;33m)\u001b[0m\u001b[1;33m\u001b[0m\u001b[1;33m\u001b[0m\u001b[0m\n\u001b[0m",
      "\u001b[1;31mAttributeError\u001b[0m: '_io.TextIOWrapper' object has no attribute 'open'"
     ]
    }
   ],
   "source": [
    "Test_file.open()"
   ]
  },
  {
   "cell_type": "code",
   "execution_count": 53,
   "id": "d979ae42",
   "metadata": {},
   "outputs": [],
   "source": [
    "Test_file.close()"
   ]
  },
  {
   "cell_type": "code",
   "execution_count": 59,
   "id": "ac746eae",
   "metadata": {
    "scrolled": true
   },
   "outputs": [
    {
     "ename": "AttributeError",
     "evalue": "'_io.TextIOWrapper' object has no attribute 'open'",
     "output_type": "error",
     "traceback": [
      "\u001b[1;31m---------------------------------------------------------------------------\u001b[0m",
      "\u001b[1;31mAttributeError\u001b[0m                            Traceback (most recent call last)",
      "\u001b[1;32m<ipython-input-59-0a928e1da177>\u001b[0m in \u001b[0;36m<module>\u001b[1;34m\u001b[0m\n\u001b[1;32m----> 1\u001b[1;33m \u001b[0mTest_file\u001b[0m\u001b[1;33m.\u001b[0m\u001b[0mopen\u001b[0m\u001b[1;33m(\u001b[0m\u001b[1;33m)\u001b[0m\u001b[1;33m\u001b[0m\u001b[1;33m\u001b[0m\u001b[0m\n\u001b[0m",
      "\u001b[1;31mAttributeError\u001b[0m: '_io.TextIOWrapper' object has no attribute 'open'"
     ]
    }
   ],
   "source": [
    "Test_file.open()"
   ]
  },
  {
   "cell_type": "markdown",
   "id": "fc13e8b3",
   "metadata": {},
   "source": [
    "## with open clause"
   ]
  },
  {
   "cell_type": "markdown",
   "id": "eca8a6c9",
   "metadata": {},
   "source": [
    "\n",
    "There's another menthod of opening an file where you need not to \n",
    "worry about closing it. You can open it with \"with\" clause and assign\n",
    "a new variable name after 'as'. Example Below"
   ]
  },
  {
   "cell_type": "code",
   "execution_count": 18,
   "id": "cc6bee3d",
   "metadata": {},
   "outputs": [],
   "source": [
    "with open('myfile.txt') as my_new_file:\n",
    "    details=my_new_file.read()"
   ]
  },
  {
   "cell_type": "code",
   "execution_count": 19,
   "id": "89110ca6",
   "metadata": {},
   "outputs": [
    {
     "data": {
      "text/plain": [
       "'Hello, this is the first file\\nI am from India\\n'"
      ]
     },
     "execution_count": 19,
     "metadata": {},
     "output_type": "execute_result"
    }
   ],
   "source": [
    "details"
   ]
  },
  {
   "cell_type": "markdown",
   "id": "122fb069",
   "metadata": {},
   "source": [
    "# Reading and writing, overwrting a file"
   ]
  },
  {
   "cell_type": "markdown",
   "id": "94bd7d61",
   "metadata": {},
   "source": [
    "* mode='r' : read-only\n",
    "* mode='w' :write only(overwrite or create new)\n",
    "* mode='a' :is append only\n",
    "* mode='r+' :reading and writing\n",
    "* mode='w+' :writing and reading (overwrite or create new)"
   ]
  },
  {
   "cell_type": "code",
   "execution_count": 20,
   "id": "18299d0d",
   "metadata": {},
   "outputs": [],
   "source": [
    "with open('myfile.txt', mode='r') as my_new_file:\n",
    "    details=my_new_file.read()"
   ]
  },
  {
   "cell_type": "code",
   "execution_count": 21,
   "id": "9629da25",
   "metadata": {},
   "outputs": [
    {
     "data": {
      "text/plain": [
       "'Hello, this is the first file\\nI am from India\\n'"
      ]
     },
     "execution_count": 21,
     "metadata": {},
     "output_type": "execute_result"
    }
   ],
   "source": [
    "details"
   ]
  },
  {
   "cell_type": "markdown",
   "id": "0360771f",
   "metadata": {},
   "source": [
    "## opening with write 'w' clause"
   ]
  },
  {
   "cell_type": "code",
   "execution_count": 22,
   "id": "2e49f021",
   "metadata": {},
   "outputs": [
    {
     "ename": "UnsupportedOperation",
     "evalue": "not readable",
     "output_type": "error",
     "traceback": [
      "\u001b[1;31m---------------------------------------------------------------------------\u001b[0m",
      "\u001b[1;31mUnsupportedOperation\u001b[0m                      Traceback (most recent call last)",
      "\u001b[1;32m<ipython-input-22-adc33b960a82>\u001b[0m in \u001b[0;36m<module>\u001b[1;34m\u001b[0m\n\u001b[0;32m      1\u001b[0m \u001b[1;32mwith\u001b[0m \u001b[0mopen\u001b[0m\u001b[1;33m(\u001b[0m\u001b[1;34m'myfile.txt'\u001b[0m\u001b[1;33m,\u001b[0m \u001b[0mmode\u001b[0m\u001b[1;33m=\u001b[0m\u001b[1;34m'w'\u001b[0m\u001b[1;33m)\u001b[0m \u001b[1;32mas\u001b[0m \u001b[0mmy_new_file\u001b[0m\u001b[1;33m:\u001b[0m\u001b[1;33m\u001b[0m\u001b[1;33m\u001b[0m\u001b[0m\n\u001b[1;32m----> 2\u001b[1;33m     \u001b[0mdetails\u001b[0m\u001b[1;33m=\u001b[0m\u001b[0mmy_new_file\u001b[0m\u001b[1;33m.\u001b[0m\u001b[0mread\u001b[0m\u001b[1;33m(\u001b[0m\u001b[1;33m)\u001b[0m\u001b[1;33m\u001b[0m\u001b[1;33m\u001b[0m\u001b[0m\n\u001b[0m",
      "\u001b[1;31mUnsupportedOperation\u001b[0m: not readable"
     ]
    }
   ],
   "source": [
    "with open('myfile.txt', mode='w') as my_new_file:\n",
    "    details=my_new_file.read()\n",
    "\n",
    "#The error below is because the file we are trying to open in write \n",
    "#directly. We need to open it in read=write"
   ]
  },
  {
   "cell_type": "code",
   "execution_count": 28,
   "id": "b01558cc",
   "metadata": {},
   "outputs": [],
   "source": [
    "with open('myfile.txt', mode='a') as my_new_file:\n",
    "    my_new_file.write(\"\\n This is the brand new line 1\")"
   ]
  },
  {
   "cell_type": "code",
   "execution_count": 29,
   "id": "f0fd8f87",
   "metadata": {},
   "outputs": [
    {
     "name": "stdout",
     "output_type": "stream",
     "text": [
      "This is the brand new line 1\n",
      " This is the brand new line 1\n",
      " This is the brand new line 1\n"
     ]
    }
   ],
   "source": [
    "with open('myfile.txt', mode='r') as f:\n",
    "    print(f.read())\n",
    "#previous command is run 3 times so three new lines"
   ]
  },
  {
   "cell_type": "code",
   "execution_count": 30,
   "id": "16586153",
   "metadata": {},
   "outputs": [],
   "source": [
    "with open('myfile_haider.txt', mode='w') as f:\n",
    "  f.write('My new file')"
   ]
  },
  {
   "cell_type": "code",
   "execution_count": 31,
   "id": "16e74661",
   "metadata": {},
   "outputs": [
    {
     "name": "stdout",
     "output_type": "stream",
     "text": [
      "My new file\n"
     ]
    }
   ],
   "source": [
    "with open('myfile_haider.txt', mode='r') as f:\n",
    "  print(f.read())"
   ]
  },
  {
   "cell_type": "code",
   "execution_count": null,
   "id": "008b3b12",
   "metadata": {},
   "outputs": [],
   "source": []
  }
 ],
 "metadata": {
  "kernelspec": {
   "display_name": "Python 3",
   "language": "python",
   "name": "python3"
  },
  "language_info": {
   "codemirror_mode": {
    "name": "ipython",
    "version": 3
   },
   "file_extension": ".py",
   "mimetype": "text/x-python",
   "name": "python",
   "nbconvert_exporter": "python",
   "pygments_lexer": "ipython3",
   "version": "3.8.8"
  }
 },
 "nbformat": 4,
 "nbformat_minor": 5
}

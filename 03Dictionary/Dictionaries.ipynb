{
 "cells": [
  {
   "cell_type": "markdown",
   "id": "d011fa14",
   "metadata": {},
   "source": [
    "# Dictionaries\n"
   ]
  },
  {
   "cell_type": "markdown",
   "id": "e4791fd0",
   "metadata": {},
   "source": [
    "*are key value pairs inside the curly braces\n",
    "*unordered set of key:valuesu \n",
    "*You can easily grab the values using the keys, no need of indexes\n",
    "*Cannot be sorted\n",
    "*Use dictionary when you want to retrieve something with the keyname\n",
    "*Can hold multipe type of data"
   ]
  },
  {
   "cell_type": "code",
   "execution_count": 1,
   "id": "182cebb1",
   "metadata": {},
   "outputs": [],
   "source": [
    "mydict={'key1':'value1', 'key2':'value2'}"
   ]
  },
  {
   "cell_type": "code",
   "execution_count": 2,
   "id": "9ed5610b",
   "metadata": {},
   "outputs": [
    {
     "data": {
      "text/plain": [
       "dict"
      ]
     },
     "execution_count": 2,
     "metadata": {},
     "output_type": "execute_result"
    }
   ],
   "source": [
    "type(mydict)"
   ]
  },
  {
   "cell_type": "code",
   "execution_count": 3,
   "id": "21ef2610",
   "metadata": {},
   "outputs": [
    {
     "data": {
      "text/plain": [
       "'value1'"
      ]
     },
     "execution_count": 3,
     "metadata": {},
     "output_type": "execute_result"
    }
   ],
   "source": [
    "mydict['key1']"
   ]
  },
  {
   "cell_type": "code",
   "execution_count": 4,
   "id": "b4bc7060",
   "metadata": {},
   "outputs": [],
   "source": [
    "store={'Resin':'10 Rupees', 'Apple':'50INR','Milk':1,'something':0.00}"
   ]
  },
  {
   "cell_type": "code",
   "execution_count": 5,
   "id": "457ac62b",
   "metadata": {},
   "outputs": [
    {
     "data": {
      "text/plain": [
       "{'Resin': '10 Rupees', 'Apple': '50INR', 'Milk': 1, 'something': 0.0}"
      ]
     },
     "execution_count": 5,
     "metadata": {},
     "output_type": "execute_result"
    }
   ],
   "source": [
    "store"
   ]
  },
  {
   "cell_type": "code",
   "execution_count": 8,
   "id": "9025e94a",
   "metadata": {},
   "outputs": [
    {
     "data": {
      "text/plain": [
       "'50INR'"
      ]
     },
     "execution_count": 8,
     "metadata": {},
     "output_type": "execute_result"
    }
   ],
   "source": [
    "store['Apple']"
   ]
  },
  {
   "cell_type": "code",
   "execution_count": 13,
   "id": "7787b19c",
   "metadata": {},
   "outputs": [],
   "source": [
    "#key inside a key\n",
    "Online_Shopping={'Resin':'10 Rupees', 'Apple':'50INR','Milk':{'oranges':0.00}}"
   ]
  },
  {
   "cell_type": "code",
   "execution_count": null,
   "id": "46f446f4",
   "metadata": {},
   "outputs": [],
   "source": []
  },
  {
   "cell_type": "raw",
   "id": "76a8c45b",
   "metadata": {},
   "source": [
    "Online_Shopping"
   ]
  },
  {
   "cell_type": "code",
   "execution_count": 17,
   "id": "44392b10",
   "metadata": {},
   "outputs": [
    {
     "data": {
      "text/plain": [
       "0.0"
      ]
     },
     "execution_count": 17,
     "metadata": {},
     "output_type": "execute_result"
    }
   ],
   "source": [
    "#how to retrieve the value of oranges\n",
    "Online_Shopping['Milk']['oranges']"
   ]
  },
  {
   "cell_type": "code",
   "execution_count": 18,
   "id": "56041f17",
   "metadata": {},
   "outputs": [
    {
     "data": {
      "text/plain": [
       "{'Resin': '10 Rupees', 'Apple': '50INR', 'Milk': 1, 'something': 0.0}"
      ]
     },
     "execution_count": 18,
     "metadata": {},
     "output_type": "execute_result"
    }
   ],
   "source": [
    "#add new value\n",
    "store"
   ]
  },
  {
   "cell_type": "code",
   "execution_count": 19,
   "id": "d09104e8",
   "metadata": {},
   "outputs": [],
   "source": [
    "store['Bottle']=200"
   ]
  },
  {
   "cell_type": "code",
   "execution_count": 20,
   "id": "0c56f96b",
   "metadata": {},
   "outputs": [
    {
     "data": {
      "text/plain": [
       "{'Resin': '10 Rupees',\n",
       " 'Apple': '50INR',\n",
       " 'Milk': 1,\n",
       " 'something': 0.0,\n",
       " 'Bottle': 200}"
      ]
     },
     "execution_count": 20,
     "metadata": {},
     "output_type": "execute_result"
    }
   ],
   "source": [
    "store"
   ]
  },
  {
   "cell_type": "code",
   "execution_count": 21,
   "id": "e4e0bc4d",
   "metadata": {},
   "outputs": [],
   "source": [
    "store['Payment']='Not required'"
   ]
  },
  {
   "cell_type": "code",
   "execution_count": 22,
   "id": "18a79a8a",
   "metadata": {},
   "outputs": [
    {
     "data": {
      "text/plain": [
       "{'Resin': '10 Rupees',\n",
       " 'Apple': '50INR',\n",
       " 'Milk': 1,\n",
       " 'something': 0.0,\n",
       " 'Bottle': 200,\n",
       " 'Payment': 'Not required'}"
      ]
     },
     "execution_count": 22,
     "metadata": {},
     "output_type": "execute_result"
    }
   ],
   "source": [
    "store"
   ]
  },
  {
   "cell_type": "code",
   "execution_count": 23,
   "id": "811529c0",
   "metadata": {},
   "outputs": [],
   "source": [
    "#changing the existing value\n",
    "store['Payment']='Please pay'"
   ]
  },
  {
   "cell_type": "code",
   "execution_count": 24,
   "id": "6ccf067a",
   "metadata": {},
   "outputs": [
    {
     "data": {
      "text/plain": [
       "{'Resin': '10 Rupees',\n",
       " 'Apple': '50INR',\n",
       " 'Milk': 1,\n",
       " 'something': 0.0,\n",
       " 'Bottle': 200,\n",
       " 'Payment': 'Please pay'}"
      ]
     },
     "execution_count": 24,
     "metadata": {},
     "output_type": "execute_result"
    }
   ],
   "source": [
    "store"
   ]
  },
  {
   "cell_type": "code",
   "execution_count": 25,
   "id": "985b304d",
   "metadata": {},
   "outputs": [
    {
     "data": {
      "text/plain": [
       "dict_keys(['Resin', 'Apple', 'Milk', 'something', 'Bottle', 'Payment'])"
      ]
     },
     "execution_count": 25,
     "metadata": {},
     "output_type": "execute_result"
    }
   ],
   "source": [
    "#to check all the keys\n",
    "store.keys()"
   ]
  },
  {
   "cell_type": "code",
   "execution_count": 26,
   "id": "9e5af4c6",
   "metadata": {},
   "outputs": [
    {
     "data": {
      "text/plain": [
       "dict_values(['10 Rupees', '50INR', 1, 0.0, 200, 'Please pay'])"
      ]
     },
     "execution_count": 26,
     "metadata": {},
     "output_type": "execute_result"
    }
   ],
   "source": [
    "#to know the values\n",
    "store.values()"
   ]
  },
  {
   "cell_type": "code",
   "execution_count": 27,
   "id": "27e2dbc0",
   "metadata": {},
   "outputs": [
    {
     "data": {
      "text/plain": [
       "dict_items([('Resin', '10 Rupees'), ('Apple', '50INR'), ('Milk', 1), ('something', 0.0), ('Bottle', 200), ('Payment', 'Please pay')])"
      ]
     },
     "execution_count": 27,
     "metadata": {},
     "output_type": "execute_result"
    }
   ],
   "source": [
    "#to get all the values in a pair \n",
    "store.items()"
   ]
  },
  {
   "cell_type": "code",
   "execution_count": 29,
   "id": "7ef57cb3",
   "metadata": {},
   "outputs": [
    {
     "data": {
      "text/plain": [
       "'10 Rupees'"
      ]
     },
     "execution_count": 29,
     "metadata": {},
     "output_type": "execute_result"
    }
   ],
   "source": [
    "store.get('Resin')"
   ]
  },
  {
   "cell_type": "code",
   "execution_count": 31,
   "id": "f07ff77d",
   "metadata": {},
   "outputs": [
    {
     "data": {
      "text/plain": [
       "'Please pay'"
      ]
     },
     "execution_count": 31,
     "metadata": {},
     "output_type": "execute_result"
    }
   ],
   "source": [
    "store.pop('Payment')"
   ]
  },
  {
   "cell_type": "code",
   "execution_count": 32,
   "id": "84e65458",
   "metadata": {},
   "outputs": [
    {
     "data": {
      "text/plain": [
       "{'Resin': '10 Rupees',\n",
       " 'Apple': '50INR',\n",
       " 'Milk': 1,\n",
       " 'something': 0.0,\n",
       " 'Bottle': 200}"
      ]
     },
     "execution_count": 32,
     "metadata": {},
     "output_type": "execute_result"
    }
   ],
   "source": [
    "store"
   ]
  },
  {
   "cell_type": "code",
   "execution_count": 33,
   "id": "62c18027",
   "metadata": {},
   "outputs": [],
   "source": [
    "store.update()"
   ]
  },
  {
   "cell_type": "code",
   "execution_count": 34,
   "id": "edfc289e",
   "metadata": {},
   "outputs": [
    {
     "data": {
      "text/plain": [
       "{'Resin': '10 Rupees',\n",
       " 'Apple': '50INR',\n",
       " 'Milk': 1,\n",
       " 'something': 0.0,\n",
       " 'Bottle': 200}"
      ]
     },
     "execution_count": 34,
     "metadata": {},
     "output_type": "execute_result"
    }
   ],
   "source": [
    "store"
   ]
  },
  {
   "cell_type": "code",
   "execution_count": null,
   "id": "4547504a",
   "metadata": {},
   "outputs": [],
   "source": []
  }
 ],
 "metadata": {
  "kernelspec": {
   "display_name": "Python 3",
   "language": "python",
   "name": "python3"
  },
  "language_info": {
   "codemirror_mode": {
    "name": "ipython",
    "version": 3
   },
   "file_extension": ".py",
   "mimetype": "text/x-python",
   "name": "python",
   "nbconvert_exporter": "python",
   "pygments_lexer": "ipython3",
   "version": "3.8.8"
  }
 },
 "nbformat": 4,
 "nbformat_minor": 5
}

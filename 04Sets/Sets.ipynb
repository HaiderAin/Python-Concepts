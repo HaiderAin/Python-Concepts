{
 "cells": [
  {
   "cell_type": "markdown",
   "id": "170f0040",
   "metadata": {},
   "source": [
    "# Sets"
   ]
  },
  {
   "cell_type": "markdown",
   "id": "d892f873",
   "metadata": {},
   "source": [
    "* Unordered collections of items\n",
    "* Are unique, there should not be duplicate values\n",
    "*Inside the curly braces\n"
   ]
  },
  {
   "cell_type": "code",
   "execution_count": 5,
   "id": "5d42b8de",
   "metadata": {},
   "outputs": [],
   "source": [
    "s1={1,2,3,45,True}"
   ]
  },
  {
   "cell_type": "code",
   "execution_count": 6,
   "id": "5804d8e7",
   "metadata": {},
   "outputs": [
    {
     "data": {
      "text/plain": [
       "set"
      ]
     },
     "execution_count": 6,
     "metadata": {},
     "output_type": "execute_result"
    }
   ],
   "source": [
    "type(s1)"
   ]
  },
  {
   "cell_type": "code",
   "execution_count": 7,
   "id": "3e588763",
   "metadata": {},
   "outputs": [],
   "source": [
    "#add another item\n",
    "s1.add('Haider')"
   ]
  },
  {
   "cell_type": "code",
   "execution_count": 8,
   "id": "9e775b91",
   "metadata": {},
   "outputs": [
    {
     "data": {
      "text/plain": [
       "{1, 2, 3, 45, 'Haider'}"
      ]
     },
     "execution_count": 8,
     "metadata": {},
     "output_type": "execute_result"
    }
   ],
   "source": [
    "s1"
   ]
  },
  {
   "cell_type": "code",
   "execution_count": 9,
   "id": "80387a96",
   "metadata": {},
   "outputs": [],
   "source": [
    "#add another value with the same one in the set\n",
    "s1.add('Haider')"
   ]
  },
  {
   "cell_type": "code",
   "execution_count": 10,
   "id": "be46dfd8",
   "metadata": {},
   "outputs": [
    {
     "data": {
      "text/plain": [
       "{1, 2, 3, 45, 'Haider'}"
      ]
     },
     "execution_count": 10,
     "metadata": {},
     "output_type": "execute_result"
    }
   ],
   "source": [
    "s1\n",
    "#observe in the ouput , the new value is not added as that is the duplicate"
   ]
  },
  {
   "cell_type": "code",
   "execution_count": 11,
   "id": "05368715",
   "metadata": {},
   "outputs": [
    {
     "data": {
      "text/plain": [
       "{1, 2, 3, 45, 'Haider'}"
      ]
     },
     "execution_count": 11,
     "metadata": {},
     "output_type": "execute_result"
    }
   ],
   "source": [
    "s1.intersection()"
   ]
  },
  {
   "cell_type": "code",
   "execution_count": 12,
   "id": "97a26129",
   "metadata": {},
   "outputs": [
    {
     "ename": "TypeError",
     "evalue": "symmetric_difference() takes exactly one argument (0 given)",
     "output_type": "error",
     "traceback": [
      "\u001b[1;31m---------------------------------------------------------------------------\u001b[0m",
      "\u001b[1;31mTypeError\u001b[0m                                 Traceback (most recent call last)",
      "\u001b[1;32m<ipython-input-12-04d0561cbc8d>\u001b[0m in \u001b[0;36m<module>\u001b[1;34m\u001b[0m\n\u001b[1;32m----> 1\u001b[1;33m \u001b[0ms1\u001b[0m\u001b[1;33m.\u001b[0m\u001b[0msymmetric_difference\u001b[0m\u001b[1;33m(\u001b[0m\u001b[1;33m)\u001b[0m\u001b[1;33m\u001b[0m\u001b[1;33m\u001b[0m\u001b[0m\n\u001b[0m",
      "\u001b[1;31mTypeError\u001b[0m: symmetric_difference() takes exactly one argument (0 given)"
     ]
    }
   ],
   "source": [
    "s1.symmetric_difference()"
   ]
  },
  {
   "cell_type": "code",
   "execution_count": 13,
   "id": "8ddc3c49",
   "metadata": {},
   "outputs": [],
   "source": [
    "s2=set('Coffee')"
   ]
  },
  {
   "cell_type": "code",
   "execution_count": 14,
   "id": "8e42b2d1",
   "metadata": {},
   "outputs": [
    {
     "name": "stdout",
     "output_type": "stream",
     "text": [
      "{'f', 'C', 'e', 'o'}\n"
     ]
    }
   ],
   "source": [
    "print(s2) #removes the duplicates automatically "
   ]
  },
  {
   "cell_type": "code",
   "execution_count": null,
   "id": "cc95a8f1",
   "metadata": {},
   "outputs": [],
   "source": []
  }
 ],
 "metadata": {
  "kernelspec": {
   "display_name": "Python 3",
   "language": "python",
   "name": "python3"
  },
  "language_info": {
   "codemirror_mode": {
    "name": "ipython",
    "version": 3
   },
   "file_extension": ".py",
   "mimetype": "text/x-python",
   "name": "python",
   "nbconvert_exporter": "python",
   "pygments_lexer": "ipython3",
   "version": "3.8.8"
  }
 },
 "nbformat": 4,
 "nbformat_minor": 5
}
